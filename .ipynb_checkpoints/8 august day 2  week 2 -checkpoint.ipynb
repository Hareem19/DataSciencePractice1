{
 "cells": [
  {
   "cell_type": "code",
   "execution_count": 1,
   "id": "85d47fd1",
   "metadata": {},
   "outputs": [],
   "source": [
    "class Laptop():\n",
    "    color=\"Black\"\n",
    "    ram=\"20gb\"\n",
    "    make=\"hp\"\n",
    "    model=\"probook\"\n",
    "    processor=\"corei5\"\n",
    "    generation=\"6th\"\n",
    "    def switch_on():\n",
    "        print(\"Laoptop is on\")\n",
    "    def switch_off():\n",
    "        print(\"Laoptop is off\")\n",
    "    def runapp():\n",
    "        print(\"ms word\")"
   ]
  },
  {
   "cell_type": "code",
   "execution_count": 2,
   "id": "a1806915",
   "metadata": {},
   "outputs": [],
   "source": [
    "hareem_laptop=Laptop()"
   ]
  },
  {
   "cell_type": "code",
   "execution_count": 3,
   "id": "6a91983f",
   "metadata": {},
   "outputs": [
    {
     "data": {
      "text/plain": [
       "'20gb'"
      ]
     },
     "execution_count": 3,
     "metadata": {},
     "output_type": "execute_result"
    }
   ],
   "source": [
    "hareem_laptop.ram"
   ]
  },
  {
   "cell_type": "code",
   "execution_count": 6,
   "id": "83364b78",
   "metadata": {},
   "outputs": [
    {
     "ename": "TypeError",
     "evalue": "Laptop.switch_on() takes 0 positional arguments but 1 was given",
     "output_type": "error",
     "traceback": [
      "\u001b[1;31m---------------------------------------------------------------------------\u001b[0m",
      "\u001b[1;31mTypeError\u001b[0m                                 Traceback (most recent call last)",
      "Cell \u001b[1;32mIn[6], line 1\u001b[0m\n\u001b[1;32m----> 1\u001b[0m hareem_laptop\u001b[38;5;241m.\u001b[39mswitch_on()\n",
      "\u001b[1;31mTypeError\u001b[0m: Laptop.switch_on() takes 0 positional arguments but 1 was given"
     ]
    }
   ],
   "source": [
    "hareem_laptop.switch_on()"
   ]
  },
  {
   "cell_type": "code",
   "execution_count": 1,
   "id": "aa88af90",
   "metadata": {},
   "outputs": [
    {
     "ename": "SyntaxError",
     "evalue": "invalid syntax (2730745040.py, line 2)",
     "output_type": "error",
     "traceback": [
      "\u001b[1;36m  Cell \u001b[1;32mIn[1], line 2\u001b[1;36m\u001b[0m\n\u001b[1;33m    def __init__(self,color,ram,make.model,processor)\u001b[0m\n\u001b[1;37m                                    ^\u001b[0m\n\u001b[1;31mSyntaxError\u001b[0m\u001b[1;31m:\u001b[0m invalid syntax\n"
     ]
    }
   ],
   "source": [
    "class Laptop():\n",
    "    def __init__(self,color,ram,make.model,processor):\n",
    "        self."
   ]
  },
  {
   "cell_type": "code",
   "execution_count": null,
   "id": "56b5f33a",
   "metadata": {},
   "outputs": [],
   "source": []
  }
 ],
 "metadata": {
  "kernelspec": {
   "display_name": "Python 3 (ipykernel)",
   "language": "python",
   "name": "python3"
  },
  "language_info": {
   "codemirror_mode": {
    "name": "ipython",
    "version": 3
   },
   "file_extension": ".py",
   "mimetype": "text/x-python",
   "name": "python",
   "nbconvert_exporter": "python",
   "pygments_lexer": "ipython3",
   "version": "3.11.3"
  }
 },
 "nbformat": 4,
 "nbformat_minor": 5
}
