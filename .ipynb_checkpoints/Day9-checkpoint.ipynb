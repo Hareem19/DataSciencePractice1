{
 "cells": [
  {
   "cell_type": "code",
   "execution_count": 35,
   "id": "8abc2280",
   "metadata": {},
   "outputs": [],
   "source": [
    "class Student:\n",
    "    def __init__(self, m):\n",
    "        self.m = m\n",
    "    \n",
    "    def __add__(s1,s2):  \n",
    "                               \n",
    "        m = s1.m + s2.m\n",
    "#       m2 = s1.m2 + s2.m2    \n",
    "        st = Student(m)\n",
    "        return st\n",
    "    def __str__(self):\n",
    "        return f\"{self.m}\"\n",
    "    \n",
    "    def __gt__(s1,s2):\n",
    "        sum_s1 = s1.m1 + s1.m2\n",
    "        sum_s2 = s2.m1 + s2.m2\n",
    "        if sum_s1 > sum_s2:\n",
    "            return True\n",
    "        else:\n",
    "            return False\n",
    "        \n",
    "        \n",
    "s1 = Student(80)\n",
    "s2 = Student(70)\n",
    "m=s1+s2"
   ]
  },
  {
   "cell_type": "code",
   "execution_count": 36,
   "id": "33082fa0",
   "metadata": {},
   "outputs": [],
   "source": [
    "m=s1+s2"
   ]
  },
  {
   "cell_type": "code",
   "execution_count": 37,
   "id": "87da08bb",
   "metadata": {},
   "outputs": [
    {
     "data": {
      "text/plain": [
       "<__main__.Student at 0x1ebfccac6d0>"
      ]
     },
     "execution_count": 37,
     "metadata": {},
     "output_type": "execute_result"
    }
   ],
   "source": [
    "m"
   ]
  },
  {
   "cell_type": "code",
   "execution_count": 38,
   "id": "80d5a7c7",
   "metadata": {},
   "outputs": [
    {
     "name": "stdout",
     "output_type": "stream",
     "text": [
      "150\n"
     ]
    }
   ],
   "source": [
    "print(m)"
   ]
  },
  {
   "cell_type": "code",
   "execution_count": 88,
   "id": "048ca65b",
   "metadata": {},
   "outputs": [],
   "source": [
    "class Student:\n",
    "    school = \"SSUET\"\n",
    "    def __init__(self, m1,m2,m3):\n",
    "        self.m1 = m1\n",
    "        self.m2 = m2\n",
    "        self.m3 = m3\n",
    "    def avgi(self):\n",
    "        return (self.m1+self.m2+self.m3)/3 \n",
    "    \n",
    "    @classmethod\n",
    "    def avgc(self):\n",
    "        return (self.m1+self.m2+self.m3)/3\n",
    "\n",
    "    def information(self):\n",
    "        return self.school\n",
    "    \n",
    "    @staticmethod\n",
    "    def hello():   # no self required\n",
    "        return \"Im a static method\"\n",
    "    @staticmethod\n",
    "    def avgs(self):\n",
    "        return (self.m1+self.m2+self.m3)/3"
   ]
  },
  {
   "cell_type": "code",
   "execution_count": 89,
   "id": "fc01e650",
   "metadata": {},
   "outputs": [],
   "source": [
    "s4 = Student(23,24,25)"
   ]
  },
  {
   "cell_type": "code",
   "execution_count": 90,
   "id": "d2847c71",
   "metadata": {},
   "outputs": [
    {
     "name": "stdout",
     "output_type": "stream",
     "text": [
      "24.0\n"
     ]
    }
   ],
   "source": [
    "print(s4.avgi())"
   ]
  },
  {
   "cell_type": "code",
   "execution_count": 91,
   "id": "0eee9b03",
   "metadata": {},
   "outputs": [
    {
     "data": {
      "text/plain": [
       "'Im a static method'"
      ]
     },
     "execution_count": 91,
     "metadata": {},
     "output_type": "execute_result"
    }
   ],
   "source": [
    "s4.hello()\n"
   ]
  },
  {
   "cell_type": "code",
   "execution_count": 92,
   "id": "32af10f5",
   "metadata": {},
   "outputs": [
    {
     "data": {
      "text/plain": [
       "'SSUET'"
      ]
     },
     "execution_count": 92,
     "metadata": {},
     "output_type": "execute_result"
    }
   ],
   "source": []
  },
  {
   "cell_type": "code",
   "execution_count": null,
   "id": "700d562f",
   "metadata": {},
   "outputs": [],
   "source": []
  },
  {
   "cell_type": "markdown",
   "id": "791df3ca",
   "metadata": {},
   "source": []
  },
  {
   "cell_type": "code",
   "execution_count": 54,
   "id": "ad26cf98",
   "metadata": {},
   "outputs": [
    {
     "data": {
      "text/plain": [
       "'Im a static method'"
      ]
     },
     "execution_count": 54,
     "metadata": {},
     "output_type": "execute_result"
    }
   ],
   "source": []
  },
  {
   "cell_type": "code",
   "execution_count": 55,
   "id": "7bab185b",
   "metadata": {},
   "outputs": [
    {
     "data": {
      "text/plain": [
       "'SSUET'"
      ]
     },
     "execution_count": 55,
     "metadata": {},
     "output_type": "execute_result"
    }
   ],
   "source": []
  },
  {
   "cell_type": "code",
   "execution_count": null,
   "id": "c31e17ac",
   "metadata": {},
   "outputs": [],
   "source": []
  }
 ],
 "metadata": {
  "kernelspec": {
   "display_name": "Python 3 (ipykernel)",
   "language": "python",
   "name": "python3"
  },
  "language_info": {
   "codemirror_mode": {
    "name": "ipython",
    "version": 3
   },
   "file_extension": ".py",
   "mimetype": "text/x-python",
   "name": "python",
   "nbconvert_exporter": "python",
   "pygments_lexer": "ipython3",
   "version": "3.11.3"
  }
 },
 "nbformat": 4,
 "nbformat_minor": 5
}
