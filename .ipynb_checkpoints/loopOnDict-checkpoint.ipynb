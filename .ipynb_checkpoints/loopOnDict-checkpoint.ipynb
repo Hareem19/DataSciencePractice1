{
 "cells": [
  {
   "cell_type": "code",
   "execution_count": 2,
   "id": "ffa4648c",
   "metadata": {},
   "outputs": [
    {
     "name": "stdout",
     "output_type": "stream",
     "text": [
      "Ford\n"
     ]
    }
   ],
   "source": [
    "thisdict = {\n",
    "  \"brand\": \"Ford\",\n",
    "  \"model\": \"Mustang\",\n",
    "  \"year\": 1964\n",
    "}\n",
    "print(thisdict[\"brand\"])"
   ]
  },
  {
   "cell_type": "code",
   "execution_count": 4,
   "id": "bf710b3c",
   "metadata": {},
   "outputs": [],
   "source": [
    "dict={\n",
    "    \"smart\":\"good\",\n",
    "    \"dumb\":\"bad\"\n",
    "}"
   ]
  },
  {
   "cell_type": "code",
   "execution_count": 8,
   "id": "ea8e7904",
   "metadata": {},
   "outputs": [
    {
     "name": "stdout",
     "output_type": "stream",
     "text": [
      "smart\n",
      "dumb\n"
     ]
    }
   ],
   "source": [
    "for key in dict.keys():\n",
    "    print(key)"
   ]
  },
  {
   "cell_type": "code",
   "execution_count": 10,
   "id": "0a21cbc6",
   "metadata": {},
   "outputs": [
    {
     "data": {
      "text/plain": [
       "[]"
      ]
     },
     "execution_count": 10,
     "metadata": {},
     "output_type": "execute_result"
    }
   ],
   "source": [
    "guests"
   ]
  },
  {
   "cell_type": "code",
   "execution_count": 1,
   "id": "df15f721",
   "metadata": {},
   "outputs": [
    {
     "name": "stdout",
     "output_type": "stream",
     "text": [
      "name pls: c\n"
     ]
    },
    {
     "ename": "AttributeError",
     "evalue": "'list' object attribute 'append' is read-only",
     "output_type": "error",
     "traceback": [
      "\u001b[1;31m---------------------------------------------------------------------------\u001b[0m",
      "\u001b[1;31mAttributeError\u001b[0m                            Traceback (most recent call last)",
      "Cell \u001b[1;32mIn[1], line 4\u001b[0m\n\u001b[0;32m      2\u001b[0m guests\u001b[38;5;241m=\u001b[39m[\u001b[38;5;124m'\u001b[39m\u001b[38;5;124ma\u001b[39m\u001b[38;5;124m'\u001b[39m,\u001b[38;5;124m'\u001b[39m\u001b[38;5;124mb\u001b[39m\u001b[38;5;124m'\u001b[39m]\n\u001b[0;32m      3\u001b[0m \u001b[38;5;28;01mfor\u001b[39;00m guest \u001b[38;5;129;01min\u001b[39;00m guests:\n\u001b[1;32m----> 4\u001b[0m     guests\u001b[38;5;241m.\u001b[39mappend\u001b[38;5;241m=\u001b[39m\u001b[38;5;28minput\u001b[39m(\u001b[38;5;124m\"\u001b[39m\u001b[38;5;124mname pls: \u001b[39m\u001b[38;5;124m\"\u001b[39m)\n",
      "\u001b[1;31mAttributeError\u001b[0m: 'list' object attribute 'append' is read-only"
     ]
    }
   ],
   "source": [
    "#while loop\n",
    "guests=['a','b']\n",
    "for guest in guests:\n",
    "    guests.append=input(\"name pls: \")"
   ]
  },
  {
   "cell_type": "code",
   "execution_count": null,
   "id": "bfded9ed",
   "metadata": {},
   "outputs": [],
   "source": [
    "counter=0\n",
    "while(counter<7):\n",
    "    print(counter)\n",
    "    counter+=1"
   ]
  },
  {
   "cell_type": "code",
   "execution_count": null,
   "id": "f8b4e023",
   "metadata": {},
   "outputs": [],
   "source": []
  },
  {
   "cell_type": "code",
   "execution_count": null,
   "id": "cb4da747",
   "metadata": {},
   "outputs": [],
   "source": [
    "counter=5\n",
    "while(counter>0):\n",
    "    print(counter)\n",
    "    counter-=1"
   ]
  },
  {
   "cell_type": "code",
   "execution_count": null,
   "id": "09799c59",
   "metadata": {},
   "outputs": [],
   "source": [
    "counter=5\n",
    "while(counter>0):\n",
    "    print(counter)\n",
    "    counter-=1"
   ]
  },
  {
   "cell_type": "code",
   "execution_count": null,
   "id": "f121668b",
   "metadata": {},
   "outputs": [],
   "source": []
  }
 ],
 "metadata": {
  "kernelspec": {
   "display_name": "Python 3 (ipykernel)",
   "language": "python",
   "name": "python3"
  },
  "language_info": {
   "codemirror_mode": {
    "name": "ipython",
    "version": 3
   },
   "file_extension": ".py",
   "mimetype": "text/x-python",
   "name": "python",
   "nbconvert_exporter": "python",
   "pygments_lexer": "ipython3",
   "version": "3.11.3"
  }
 },
 "nbformat": 4,
 "nbformat_minor": 5
}
