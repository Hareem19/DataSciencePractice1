{
 "cells": [
  {
   "cell_type": "code",
   "execution_count": 5,
   "id": "85d47fd1",
   "metadata": {},
   "outputs": [],
   "source": [
    "class Laptop():\n",
    "    color=\"Black\"\n",
    "    ram=\"20gb\"\n",
    "    make=\"hp\"\n",
    "    model=\"probook\"\n",
    "    processor=\"corei5\"\n",
    "    generation=\"6th\"\n",
    "    def switch_on(self):\n",
    "        print(\"Laoptop is on\")\n",
    "    def switch_off():\n",
    "        print(\"Laoptop is off\")\n",
    "    def runapp():\n",
    "        print(\"ms word\")"
   ]
  },
  {
   "cell_type": "code",
   "execution_count": 6,
   "id": "a1806915",
   "metadata": {},
   "outputs": [],
   "source": [
    "hareem_laptop=Laptop()"
   ]
  },
  {
   "cell_type": "code",
   "execution_count": 7,
   "id": "6a91983f",
   "metadata": {},
   "outputs": [
    {
     "data": {
      "text/plain": [
       "'20gb'"
      ]
     },
     "execution_count": 7,
     "metadata": {},
     "output_type": "execute_result"
    }
   ],
   "source": [
    "hareem_laptop.ram"
   ]
  },
  {
   "cell_type": "code",
   "execution_count": 8,
   "id": "83364b78",
   "metadata": {},
   "outputs": [
    {
     "name": "stdout",
     "output_type": "stream",
     "text": [
      "Laoptop is on\n"
     ]
    }
   ],
   "source": [
    "hareem_laptop.switch_on()"
   ]
  },
  {
   "cell_type": "code",
   "execution_count": null,
   "id": "aa88af90",
   "metadata": {},
   "outputs": [],
   "source": []
  },
  {
   "cell_type": "code",
   "execution_count": null,
   "id": "8c143ec4",
   "metadata": {},
   "outputs": [],
   "source": []
  }
 ],
 "metadata": {
  "kernelspec": {
   "display_name": "Python 3 (ipykernel)",
   "language": "python",
   "name": "python3"
  },
  "language_info": {
   "codemirror_mode": {
    "name": "ipython",
    "version": 3
   },
   "file_extension": ".py",
   "mimetype": "text/x-python",
   "name": "python",
   "nbconvert_exporter": "python",
   "pygments_lexer": "ipython3",
   "version": "3.11.3"
  }
 },
 "nbformat": 4,
 "nbformat_minor": 5
}
