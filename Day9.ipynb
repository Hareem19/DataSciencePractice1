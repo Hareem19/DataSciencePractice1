{
 "cells": [
  {
   "cell_type": "code",
   "execution_count": 1,
   "id": "8abc2280",
   "metadata": {},
   "outputs": [],
   "source": [
    "class Student:\n",
    "    def __init__(self, m):\n",
    "        self.m = m\n",
    "    \n",
    "    def __add__(s1,s2):  \n",
    "                               \n",
    "        m = s1.m + s2.m\n",
    "#       m2 = s1.m2 + s2.m2    \n",
    "        st = Student(m)\n",
    "        return st\n",
    "    def __str__(self):\n",
    "        return f\"{self.m}\"\n",
    "    \n",
    "    def __gt__(s1,s2):\n",
    "        sum_s1 = s1.m1 + s1.m2\n",
    "        sum_s2 = s2.m1 + s2.m2\n",
    "        if sum_s1 > sum_s2:\n",
    "            return True\n",
    "        else:\n",
    "            return False\n",
    "        \n",
    "        \n",
    "s1 = Student(80)\n",
    "s2 = Student(70)\n",
    "m=s1+s2"
   ]
  },
  {
   "cell_type": "code",
   "execution_count": 2,
   "id": "33082fa0",
   "metadata": {},
   "outputs": [],
   "source": [
    "m=s1+s2"
   ]
  },
  {
   "cell_type": "code",
   "execution_count": 3,
   "id": "87da08bb",
   "metadata": {},
   "outputs": [
    {
     "data": {
      "text/plain": [
       "<__main__.Student at 0x18f95da92d0>"
      ]
     },
     "execution_count": 3,
     "metadata": {},
     "output_type": "execute_result"
    }
   ],
   "source": [
    "m"
   ]
  },
  {
   "cell_type": "code",
   "execution_count": 4,
   "id": "80d5a7c7",
   "metadata": {},
   "outputs": [
    {
     "name": "stdout",
     "output_type": "stream",
     "text": [
      "150\n"
     ]
    }
   ],
   "source": [
    "print(m)"
   ]
  },
  {
   "cell_type": "code",
   "execution_count": 5,
   "id": "048ca65b",
   "metadata": {},
   "outputs": [],
   "source": [
    "class Student:\n",
    "    school = \"SSUET\"\n",
    "    def __init__(self, m1,m2,m3):\n",
    "        self.m1 = m1\n",
    "        self.m2 = m2\n",
    "        self.m3 = m3\n",
    "    def avgi(self):\n",
    "        return (self.m1+self.m2+self.m3)/3 \n",
    "    \n",
    "    @classmethod\n",
    "    def information(self):\n",
    "        return self.school\n",
    "    \n",
    "    @staticmethod\n",
    "    def hello():   # no self required\n",
    "        return \"Im a static method\"\n",
    "\n"
   ]
  },
  {
   "cell_type": "code",
   "execution_count": 6,
   "id": "b513d4f1",
   "metadata": {},
   "outputs": [],
   "source": [
    "s4 = Student(23,24,25)"
   ]
  },
  {
   "cell_type": "code",
   "execution_count": 7,
   "id": "d2847c71",
   "metadata": {},
   "outputs": [
    {
     "name": "stdout",
     "output_type": "stream",
     "text": [
      "24.0\n"
     ]
    }
   ],
   "source": [
    "print(s4.avgi())"
   ]
  },
  {
   "cell_type": "code",
   "execution_count": 8,
   "id": "1e389191",
   "metadata": {},
   "outputs": [
    {
     "data": {
      "text/plain": [
       "'Im a static method'"
      ]
     },
     "execution_count": 8,
     "metadata": {},
     "output_type": "execute_result"
    }
   ],
   "source": [
    "s4.hello()\n"
   ]
  },
  {
   "cell_type": "code",
   "execution_count": 53,
   "id": "caf36cd0",
   "metadata": {},
   "outputs": [],
   "source": [
    "def welcome():\n",
    "    return \"welcome to ssuet\"\n"
   ]
  },
  {
   "cell_type": "markdown",
   "id": "6e9832e5",
   "metadata": {},
   "source": []
  },
  {
   "cell_type": "code",
   "execution_count": 47,
   "id": "6a442c75",
   "metadata": {},
   "outputs": [
    {
     "data": {
      "text/plain": [
       "'welcome to ssuet'"
      ]
     },
     "execution_count": 47,
     "metadata": {},
     "output_type": "execute_result"
    }
   ],
   "source": [
    "welcome()"
   ]
  },
  {
   "cell_type": "code",
   "execution_count": 48,
   "id": "1beb38ef",
   "metadata": {},
   "outputs": [],
   "source": [
    "well=welcome()"
   ]
  },
  {
   "cell_type": "markdown",
   "id": "39deadee",
   "metadata": {},
   "source": []
  },
  {
   "cell_type": "code",
   "execution_count": 49,
   "id": "34d92cd5",
   "metadata": {},
   "outputs": [
    {
     "data": {
      "text/plain": [
       "'welcome to ssuet'"
      ]
     },
     "execution_count": 49,
     "metadata": {},
     "output_type": "execute_result"
    }
   ],
   "source": [
    "well"
   ]
  },
  {
   "cell_type": "code",
   "execution_count": 50,
   "id": "3ed6cee0",
   "metadata": {},
   "outputs": [
    {
     "data": {
      "text/plain": [
       "'welcome to ssuet'"
      ]
     },
     "execution_count": 50,
     "metadata": {},
     "output_type": "execute_result"
    }
   ],
   "source": [
    "welcome()"
   ]
  },
  {
   "cell_type": "code",
   "execution_count": 54,
   "id": "1309eb69",
   "metadata": {},
   "outputs": [],
   "source": [
    "def gp(msg):\n",
    "    print(welcome())\n",
    "    def p():\n",
    "        def c():\n",
    "            print(\"child\",msg)\n",
    "        return(c())\n",
    "    return(p())"
   ]
  },
  {
   "cell_type": "code",
   "execution_count": 55,
   "id": "8b9b7e12",
   "metadata": {},
   "outputs": [
    {
     "name": "stdout",
     "output_type": "stream",
     "text": [
      "welcome to ssuet\n",
      "child grandparents\n"
     ]
    }
   ],
   "source": [
    "gp(\"grandparents\")"
   ]
  },
  {
   "cell_type": "code",
   "execution_count": null,
   "id": "60799457",
   "metadata": {},
   "outputs": [],
   "source": []
  },
  {
   "cell_type": "code",
   "execution_count": 57,
   "id": "436be218",
   "metadata": {},
   "outputs": [],
   "source": [
    "def parent(func):\n",
    "    def child():\n",
    "        func(\"hello\")\n",
    "        print(\"welcome\")\n",
    "    return child()"
   ]
  },
  {
   "cell_type": "code",
   "execution_count": 58,
   "id": "76c4fa7e",
   "metadata": {},
   "outputs": [
    {
     "name": "stdout",
     "output_type": "stream",
     "text": [
      "hello\n",
      "welcome\n"
     ]
    }
   ],
   "source": [
    "parent(print)"
   ]
  },
  {
   "cell_type": "code",
   "execution_count": 60,
   "id": "6fa9ad56",
   "metadata": {},
   "outputs": [],
   "source": [
    "def my_print(func):\n",
    "    return func(\"hello\")"
   ]
  },
  {
   "cell_type": "code",
   "execution_count": 62,
   "id": "da687af4",
   "metadata": {},
   "outputs": [
    {
     "name": "stdout",
     "output_type": "stream",
     "text": [
      "hello\n"
     ]
    }
   ],
   "source": [
    "my_print(print)"
   ]
  },
  {
   "cell_type": "code",
   "execution_count": 68,
   "id": "c50bd53a",
   "metadata": {},
   "outputs": [],
   "source": [
    "def mydeco(func):\n",
    "    name=input(\"Enter name: \")\n",
    "    invite=func(name)\n",
    "    print(invite)"
   ]
  },
  {
   "cell_type": "code",
   "execution_count": 69,
   "id": "5e9b9776",
   "metadata": {},
   "outputs": [
    {
     "name": "stdout",
     "output_type": "stream",
     "text": [
      "Enter name: hareem\n",
      "welcome hareem\n"
     ]
    }
   ],
   "source": [
    "@mydeco\n",
    "def greetings(guest_name):\n",
    "    return f\"welcome {guest_name}\"\n"
   ]
  },
  {
   "cell_type": "code",
   "execution_count": 70,
   "id": "0bd9c8ca",
   "metadata": {},
   "outputs": [
    {
     "data": {
      "text/plain": [
       "tuple_iterator"
      ]
     },
     "execution_count": 70,
     "metadata": {},
     "output_type": "execute_result"
    }
   ],
   "source": [
    "tple=(2,4,5,6,9,6)\n",
    "my_i=iter(tple)\n",
    "type(my_i)"
   ]
  },
  {
   "cell_type": "code",
   "execution_count": null,
   "id": "0ad2368b",
   "metadata": {},
   "outputs": [],
   "source": [
    "lst=[2,4,5,6,9,6)\n",
    "my_i=iter(tple)\n",
    "type(my_i)"
   ]
  },
  {
   "cell_type": "code",
   "execution_count": 74,
   "id": "251911db",
   "metadata": {},
   "outputs": [
    {
     "data": {
      "text/plain": [
       "5"
      ]
     },
     "execution_count": 74,
     "metadata": {},
     "output_type": "execute_result"
    }
   ],
   "source": [
    "next(my_i)"
   ]
  },
  {
   "cell_type": "code",
   "execution_count": 73,
   "id": "78e4720a",
   "metadata": {},
   "outputs": [],
   "source": [
    "def p_f(func):\n",
    "    name=\"h\"\n",
    "    fname=\"i\"\n",
    "    profile=func(n=name,f=fname)\n",
    "    print(profile)"
   ]
  },
  {
   "cell_type": "code",
   "execution_count": 65,
   "id": "00c40cd7",
   "metadata": {},
   "outputs": [],
   "source": [
    "def xyz(**arg):\n",
    "    print(\"HELLO\")"
   ]
  },
  {
   "cell_type": "code",
   "execution_count": 67,
   "id": "0bbfdc1b",
   "metadata": {},
   "outputs": [
    {
     "ename": "SyntaxError",
     "evalue": "expected ':' (2188699877.py, line 2)",
     "output_type": "error",
     "traceback": [
      "\u001b[1;36m  Cell \u001b[1;32mIn[67], line 2\u001b[1;36m\u001b[0m\n\u001b[1;33m    def p_d(**details)\u001b[0m\n\u001b[1;37m                      ^\u001b[0m\n\u001b[1;31mSyntaxError\u001b[0m\u001b[1;31m:\u001b[0m expected ':'\n"
     ]
    }
   ],
   "source": [
    "@p_f\n",
    "def p_d(**details)\n",
    "       return details"
   ]
  },
  {
   "cell_type": "code",
   "execution_count": null,
   "id": "34a2aa6b",
   "metadata": {},
   "outputs": [],
   "source": []
  }
 ],
 "metadata": {
  "kernelspec": {
   "display_name": "Python 3 (ipykernel)",
   "language": "python",
   "name": "python3"
  },
  "language_info": {
   "codemirror_mode": {
    "name": "ipython",
    "version": 3
   },
   "file_extension": ".py",
   "mimetype": "text/x-python",
   "name": "python",
   "nbconvert_exporter": "python",
   "pygments_lexer": "ipython3",
   "version": "3.11.3"
  }
 },
 "nbformat": 4,
 "nbformat_minor": 5
}
