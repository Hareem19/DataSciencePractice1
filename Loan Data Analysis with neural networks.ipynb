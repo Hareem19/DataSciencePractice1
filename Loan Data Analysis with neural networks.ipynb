{
 "cells": [
  {
   "cell_type": "code",
   "execution_count": 1,
   "id": "98087d5c",
   "metadata": {},
   "outputs": [],
   "source": [
    "import pandas as pd\n",
    "import numpy as np\n",
    "from sklearn.pipeline import Pipeline\n",
    "from sklearn.preprocessing import StandardScaler, OneHotEncoder\n",
    "from sklearn.compose import ColumnTransformer\n",
    "from sklearn.model_selection import train_test_split\n",
    "from sklearn.metrics import classification_report\n",
    "from keras.models import Sequential\n",
    "from keras.layers import Dense\n"
   ]
  },
  {
   "cell_type": "code",
   "execution_count": 10,
   "id": "4741f660",
   "metadata": {},
   "outputs": [],
   "source": [
    "columns_to_use = ['loan_amnt', 'funded_amnt', 'term', 'int_rate', 'installment',\n",
    "                  'emp_length', 'home_ownership', 'annual_inc', 'verification_status',\n",
    "                  'loan_status', 'purpose','repay_fail']\n",
    "\n",
    "loan = pd.read_excel('ballanced_dataset.xlsx', usecols=columns_to_use)"
   ]
  },
  {
   "cell_type": "code",
   "execution_count": 11,
   "id": "5a9f007f",
   "metadata": {},
   "outputs": [],
   "source": [
    "# Select columns for features and target\n",
    "selected_numeric_columns = ['loan_amnt', 'funded_amnt', 'int_rate', 'installment', 'emp_length', 'annual_inc']\n",
    "selected_categorical_columns = ['term', 'home_ownership', 'verification_status', 'purpose']"
   ]
  },
  {
   "cell_type": "code",
   "execution_count": 12,
   "id": "8c4a3dab",
   "metadata": {},
   "outputs": [],
   "source": [
    "# X = loan[selected_numeric_columns + selected_categorical_columns]\n",
    "# y = loan['repay_fail']"
   ]
  },
  {
   "cell_type": "code",
   "execution_count": 14,
   "id": "e396ec0e",
   "metadata": {},
   "outputs": [
    {
     "name": "stdout",
     "output_type": "stream",
     "text": [
      "Epoch 1/10\n",
      "291/291 [==============================] - 2s 2ms/step - loss: 0.6512 - accuracy: 0.6156\n",
      "Epoch 2/10\n",
      "291/291 [==============================] - 0s 1ms/step - loss: 0.6367 - accuracy: 0.6347\n",
      "Epoch 3/10\n",
      "291/291 [==============================] - 0s 1ms/step - loss: 0.6334 - accuracy: 0.6381\n",
      "Epoch 4/10\n",
      "291/291 [==============================] - 0s 1ms/step - loss: 0.6319 - accuracy: 0.6412\n",
      "Epoch 5/10\n",
      "291/291 [==============================] - 0s 1ms/step - loss: 0.6298 - accuracy: 0.6428\n",
      "Epoch 6/10\n",
      "291/291 [==============================] - 0s 1ms/step - loss: 0.6299 - accuracy: 0.6407\n",
      "Epoch 7/10\n",
      "291/291 [==============================] - 0s 1ms/step - loss: 0.6284 - accuracy: 0.6421\n",
      "Epoch 8/10\n",
      "291/291 [==============================] - 0s 1ms/step - loss: 0.6278 - accuracy: 0.6458\n",
      "Epoch 9/10\n",
      "291/291 [==============================] - 0s 1ms/step - loss: 0.6278 - accuracy: 0.6440\n",
      "Epoch 10/10\n",
      "291/291 [==============================] - 0s 1ms/step - loss: 0.6275 - accuracy: 0.6442\n",
      "73/73 [==============================] - 0s 882us/step\n",
      "              precision    recall  f1-score   support\n",
      "\n",
      "           0       0.63      0.65      0.64      1150\n",
      "           1       0.65      0.63      0.64      1172\n",
      "\n",
      "    accuracy                           0.64      2322\n",
      "   macro avg       0.64      0.64      0.64      2322\n",
      "weighted avg       0.64      0.64      0.64      2322\n",
      "\n"
     ]
    }
   ],
   "source": [
    "# Preprocess Data\n",
    "X = loan[['loan_amnt', 'funded_amnt', 'term', 'int_rate', 'installment',\n",
    "          'emp_length', 'home_ownership', 'annual_inc', 'verification_status',\n",
    "          'purpose']]  # Selected features\n",
    "y = loan['repay_fail']  # Target variable\n",
    "\n",
    "# Split Data\n",
    "X_train, X_test, y_train, y_test = train_test_split(X, y, test_size=0.2, random_state=0)\n",
    "\n",
    "# Preprocess numerical features\n",
    "numeric_features = ['loan_amnt', 'funded_amnt', 'int_rate', 'installment', 'emp_length', 'annual_inc']\n",
    "scaler = StandardScaler()\n",
    "X_train[numeric_features] = scaler.fit_transform(X_train[numeric_features])\n",
    "X_test[numeric_features] = scaler.transform(X_test[numeric_features])\n",
    "\n",
    "# One-hot encode categorical features\n",
    "categorical_features = ['term', 'home_ownership', 'verification_status', 'purpose']\n",
    "X_train_encoded = pd.get_dummies(X_train, columns=categorical_features, drop_first=True)\n",
    "X_test_encoded = pd.get_dummies(X_test, columns=categorical_features, drop_first=True)\n",
    "\n",
    "# Create a neural network model\n",
    "model = Sequential([\n",
    "    Dense(units=64, activation='relu', input_shape=(X_train_encoded.shape[1],)),\n",
    "    Dense(units=1, activation='sigmoid')\n",
    "])\n",
    "\n",
    "# Compile the model\n",
    "model.compile(optimizer='adam', loss='binary_crossentropy', metrics=['accuracy'])\n",
    "\n",
    "# Fit the model on training data\n",
    "model.fit(X_train_encoded, y_train, epochs=10, batch_size=32, verbose=1)\n",
    "\n",
    "# Predict using the model on test data\n",
    "y_pred_prob = model.predict(X_test_encoded)\n",
    "y_pred = (y_pred_prob > 0.5).astype(int)\n",
    "\n",
    "# Calculate classification report\n",
    "classification_rep = classification_report(y_test, y_pred)\n",
    "print(classification_rep)\n"
   ]
  },
  {
   "cell_type": "code",
   "execution_count": 15,
   "id": "2c0f2c07",
   "metadata": {},
   "outputs": [
    {
     "data": {
      "text/plain": [
       "array([[1],\n",
       "       [0],\n",
       "       [0],\n",
       "       ...,\n",
       "       [1],\n",
       "       [1],\n",
       "       [1]])"
      ]
     },
     "execution_count": 15,
     "metadata": {},
     "output_type": "execute_result"
    }
   ],
   "source": [
    "y_pred"
   ]
  },
  {
   "cell_type": "code",
   "execution_count": 16,
   "id": "a7d81a14",
   "metadata": {},
   "outputs": [
    {
     "data": {
      "text/plain": [
       "10154    1\n",
       "7181     1\n",
       "7550     1\n",
       "7990     1\n",
       "1299     0\n",
       "        ..\n",
       "8260     1\n",
       "7790     1\n",
       "3345     0\n",
       "7803     1\n",
       "693      0\n",
       "Name: repay_fail, Length: 2322, dtype: int64"
      ]
     },
     "execution_count": 16,
     "metadata": {},
     "output_type": "execute_result"
    }
   ],
   "source": [
    "y_test"
   ]
  },
  {
   "cell_type": "code",
   "execution_count": null,
   "id": "1e129a18",
   "metadata": {},
   "outputs": [],
   "source": []
  }
 ],
 "metadata": {
  "kernelspec": {
   "display_name": "Python 3 (ipykernel)",
   "language": "python",
   "name": "python3"
  },
  "language_info": {
   "codemirror_mode": {
    "name": "ipython",
    "version": 3
   },
   "file_extension": ".py",
   "mimetype": "text/x-python",
   "name": "python",
   "nbconvert_exporter": "python",
   "pygments_lexer": "ipython3",
   "version": "3.11.4"
  }
 },
 "nbformat": 4,
 "nbformat_minor": 5
}
