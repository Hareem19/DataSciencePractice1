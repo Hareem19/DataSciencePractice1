{
 "cells": [
  {
   "cell_type": "code",
   "execution_count": 1,
   "id": "ed81e120",
   "metadata": {},
   "outputs": [],
   "source": [
    "import pandas as pd"
   ]
  },
  {
   "cell_type": "code",
   "execution_count": 3,
   "id": "c077c95d",
   "metadata": {},
   "outputs": [],
   "source": [
    "car_data=pd.read_csv(r\"C:\\Users\\abc\\Desktop\\Bootcamp practice\\tmdb_5000_movies.csv\")"
   ]
  },
  {
   "cell_type": "code",
   "execution_count": 4,
   "id": "0462b1cf",
   "metadata": {},
   "outputs": [],
   "source": [
    "car_data=pd.read_csv(r\"C:\\Users\\abc\\Desktop\\Bootcamp practice\\tmdb_5000_credits.csv\")"
   ]
  },
  {
   "cell_type": "code",
   "execution_count": null,
   "id": "d30ea07b",
   "metadata": {},
   "outputs": [],
   "source": []
  }
 ],
 "metadata": {
  "kernelspec": {
   "display_name": "Python 3 (ipykernel)",
   "language": "python",
   "name": "python3"
  },
  "language_info": {
   "codemirror_mode": {
    "name": "ipython",
    "version": 3
   },
   "file_extension": ".py",
   "mimetype": "text/x-python",
   "name": "python",
   "nbconvert_exporter": "python",
   "pygments_lexer": "ipython3",
   "version": "3.11.3"
  }
 },
 "nbformat": 4,
 "nbformat_minor": 5
}
