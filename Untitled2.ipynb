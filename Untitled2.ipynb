{
 "cells": [
  {
   "cell_type": "code",
   "execution_count": 1,
   "id": "25d79642",
   "metadata": {},
   "outputs": [],
   "source": [
    "#for loop\n",
    "guests=[]\n",
    "for guest in guests:\n",
    "    guests.append=input(\"name pls: \")"
   ]
  },
  {
   "cell_type": "code",
   "execution_count": null,
   "id": "ae97ea94",
   "metadata": {},
   "outputs": [
    {
     "name": "stdout",
     "output_type": "stream",
     "text": [
      "a\n",
      "added\n",
      "b\n",
      "added\n",
      "c\n",
      "not available\n",
      "w\n",
      "not available\n",
      "f\n",
      "not available\n",
      "y\n",
      "not available\n",
      "j\n",
      "not available\n",
      "u\n",
      "not available\n"
     ]
    }
   ],
   "source": [
    "items=['a','b']\n",
    "users=[]\n",
    "while(True):\n",
    "    user=input(\"\")\n",
    "    users.append(user)\n",
    "    if user in items:\n",
    "        print(\"added\")\n",
    "    else:\n",
    "        print(\"not available\")"
   ]
  },
  {
   "cell_type": "code",
   "execution_count": null,
   "id": "72a0488d",
   "metadata": {},
   "outputs": [],
   "source": []
  },
  {
   "cell_type": "code",
   "execution_count": null,
   "id": "f2a93b6d",
   "metadata": {},
   "outputs": [],
   "source": []
  },
  {
   "cell_type": "code",
   "execution_count": null,
   "id": "ffcdd02f",
   "metadata": {},
   "outputs": [],
   "source": [
    "guests=[]\n",
    "while(True):\n",
    "    guest=input(\"name or q to exit\")\n",
    "    if guest==\"q\":\n",
    "        break\n",
    "    else:\n",
    "        guests.append(guest)\n",
    "guest\n",
    "    "
   ]
  }
 ],
 "metadata": {
  "kernelspec": {
   "display_name": "Python 3 (ipykernel)",
   "language": "python",
   "name": "python3"
  },
  "language_info": {
   "codemirror_mode": {
    "name": "ipython",
    "version": 3
   },
   "file_extension": ".py",
   "mimetype": "text/x-python",
   "name": "python",
   "nbconvert_exporter": "python",
   "pygments_lexer": "ipython3",
   "version": "3.11.3"
  }
 },
 "nbformat": 4,
 "nbformat_minor": 5
}
