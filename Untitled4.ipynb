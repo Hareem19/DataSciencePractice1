{
 "cells": [
  {
   "cell_type": "code",
   "execution_count": null,
   "id": "7a2f4822",
   "metadata": {},
   "outputs": [],
   "source": [
    "store_items={'rice':350, 'oil':400}\n",
    "cart=[]\n",
    "amt=0\n",
    "while True:\n",
    "    order=input(\"Order\").lower()\n",
    "    if order!=\"q\":\n",
    "        \n",
    "    else:\n",
    "        print(cart)\n",
    "        print(amt)\n",
    "        break"
   ]
  }
 ],
 "metadata": {
  "kernelspec": {
   "display_name": "Python 3 (ipykernel)",
   "language": "python",
   "name": "python3"
  },
  "language_info": {
   "codemirror_mode": {
    "name": "ipython",
    "version": 3
   },
   "file_extension": ".py",
   "mimetype": "text/x-python",
   "name": "python",
   "nbconvert_exporter": "python",
   "pygments_lexer": "ipython3",
   "version": "3.11.3"
  }
 },
 "nbformat": 4,
 "nbformat_minor": 5
}
