{
 "cells": [
  {
   "cell_type": "code",
   "execution_count": 45,
   "id": "c9d6b7a6",
   "metadata": {},
   "outputs": [],
   "source": [
    "class Laptop():\n",
    "    def __init__(self,color,ram,make,model,processor):\n",
    "        self.color=color\n",
    "        self.ram=ram\n",
    "        self.make=make\n",
    "        self.model=model\n",
    "        self.processor=processor\n",
    "    def spec(self):\n",
    "        print(f\"\"\"\n",
    "              ram: {self.ram}\n",
    "              color: {self.color}\n",
    "              make: {self.make}\n",
    "              model: {self.model}\n",
    "              processor: {self.processor}\n",
    "              \n",
    "              \"\"\")\n",
    "    def get_color(self):\n",
    "            print(f\"The color of laptop is : {self.color}\")\n",
    "    def set_color(self, new_color):\n",
    "            colors=[\"black\",\"red\",\"blue\"]\n",
    "            if new_color in colors:\n",
    "                self.color-new_color\n",
    "            else:\n",
    "                print(f\"This color of laptop is not available\")\n",
    "    def get_model(self):\n",
    "            print(f\"The model of laptop is : {self.model}\")\n",
    "    def set_model(self, new_model):\n",
    "            models=[\"g2\",\"g1\",\"g3\"]\n",
    "            if new_model in models:\n",
    "                self.model=new_model\n",
    "            else:\n",
    "                print(f\"This model of laptop is not available\")"
   ]
  },
  {
   "cell_type": "code",
   "execution_count": 46,
   "id": "1302c6b5",
   "metadata": {},
   "outputs": [],
   "source": [
    "lpt1=Laptop(\"red\",\"4gb\",\"hp\",\"probook\",\"i7\")"
   ]
  },
  {
   "cell_type": "code",
   "execution_count": 47,
   "id": "a61f2034",
   "metadata": {},
   "outputs": [
    {
     "name": "stdout",
     "output_type": "stream",
     "text": [
      "This color of laptop is not available\n"
     ]
    }
   ],
   "source": [
    "lpt1.set_color(\"purple\")"
   ]
  },
  {
   "cell_type": "code",
   "execution_count": 48,
   "id": "e354dc3f",
   "metadata": {},
   "outputs": [
    {
     "name": "stdout",
     "output_type": "stream",
     "text": [
      "The color of laptop is : red\n"
     ]
    }
   ],
   "source": [
    "lpt1.get_color()"
   ]
  },
  {
   "cell_type": "code",
   "execution_count": 53,
   "id": "031c344e",
   "metadata": {},
   "outputs": [
    {
     "name": "stdout",
     "output_type": "stream",
     "text": [
      "The model of laptop is : g1\n"
     ]
    }
   ],
   "source": [
    "lpt3.get_model()"
   ]
  },
  {
   "cell_type": "code",
   "execution_count": 54,
   "id": "5602f138",
   "metadata": {},
   "outputs": [],
   "source": [
    "lpt3=Laptop(\"black\",\"8gb\",\"dell\",\"g1\",\"i9\")"
   ]
  },
  {
   "cell_type": "code",
   "execution_count": 55,
   "id": "41e66aa9",
   "metadata": {},
   "outputs": [
    {
     "name": "stdout",
     "output_type": "stream",
     "text": [
      "This color of laptop is not available\n"
     ]
    }
   ],
   "source": [
    "lpt3.set_color(\"purple\")"
   ]
  },
  {
   "cell_type": "code",
   "execution_count": 58,
   "id": "f208629e",
   "metadata": {},
   "outputs": [
    {
     "name": "stdout",
     "output_type": "stream",
     "text": [
      "This model of laptop is not available\n"
     ]
    }
   ],
   "source": [
    "lpt3.set_model(\"g9\")"
   ]
  },
  {
   "cell_type": "code",
   "execution_count": 57,
   "id": "49462e06",
   "metadata": {},
   "outputs": [
    {
     "name": "stdout",
     "output_type": "stream",
     "text": [
      "The model of laptop is : g1\n"
     ]
    }
   ],
   "source": [
    "lpt3.get_model()"
   ]
  },
  {
   "cell_type": "code",
   "execution_count": 1,
   "id": "d2e0727b",
   "metadata": {},
   "outputs": [],
   "source": [
    "from our_laptop import Laptop"
   ]
  },
  {
   "cell_type": "code",
   "execution_count": 1,
   "id": "6981f5e5",
   "metadata": {},
   "outputs": [
    {
     "ename": "NameError",
     "evalue": "name 'Laptop' is not defined",
     "output_type": "error",
     "traceback": [
      "\u001b[1;31m---------------------------------------------------------------------------\u001b[0m",
      "\u001b[1;31mNameError\u001b[0m                                 Traceback (most recent call last)",
      "Cell \u001b[1;32mIn[1], line 1\u001b[0m\n\u001b[1;32m----> 1\u001b[0m lpt4\u001b[38;5;241m=\u001b[39mLaptop(\u001b[38;5;124m\"\u001b[39m\u001b[38;5;124mred\u001b[39m\u001b[38;5;124m\"\u001b[39m,\u001b[38;5;124m\"\u001b[39m\u001b[38;5;124m4gb\u001b[39m\u001b[38;5;124m\"\u001b[39m,\u001b[38;5;124m\"\u001b[39m\u001b[38;5;124mhp\u001b[39m\u001b[38;5;124m\"\u001b[39m,\u001b[38;5;124m\"\u001b[39m\u001b[38;5;124mprobook\u001b[39m\u001b[38;5;124m\"\u001b[39m,\u001b[38;5;124m\"\u001b[39m\u001b[38;5;124mi7\u001b[39m\u001b[38;5;124m\"\u001b[39m)\n",
      "\u001b[1;31mNameError\u001b[0m: name 'Laptop' is not defined"
     ]
    }
   ],
   "source": [
    "lpt4=Laptop(\"red\",\"4gb\",\"hp\",\"probook\",\"i7\")"
   ]
  },
  {
   "cell_type": "raw",
   "id": "7d237f83",
   "metadata": {},
   "source": []
  },
  {
   "cell_type": "code",
   "execution_count": null,
   "id": "ab3090f6",
   "metadata": {},
   "outputs": [],
   "source": []
  },
  {
   "cell_type": "code",
   "execution_count": null,
   "id": "3df89233",
   "metadata": {},
   "outputs": [],
   "source": []
  },
  {
   "cell_type": "code",
   "execution_count": null,
   "id": "ab7aabce",
   "metadata": {},
   "outputs": [],
   "source": []
  },
  {
   "cell_type": "code",
   "execution_count": null,
   "id": "e47a4352",
   "metadata": {},
   "outputs": [],
   "source": []
  },
  {
   "cell_type": "code",
   "execution_count": null,
   "id": "7cd219dc",
   "metadata": {},
   "outputs": [],
   "source": []
  },
  {
   "cell_type": "code",
   "execution_count": 63,
   "id": "76f27661",
   "metadata": {
    "scrolled": true
   },
   "outputs": [
    {
     "ename": "TypeError",
     "evalue": "unsupported operand type(s) for -: 'str' and 'str'",
     "output_type": "error",
     "traceback": [
      "\u001b[1;31m---------------------------------------------------------------------------\u001b[0m",
      "\u001b[1;31mTypeError\u001b[0m                                 Traceback (most recent call last)",
      "Cell \u001b[1;32mIn[63], line 1\u001b[0m\n\u001b[1;32m----> 1\u001b[0m lpt3\u001b[38;5;241m.\u001b[39mset_model(\u001b[38;5;124m\"\u001b[39m\u001b[38;5;124mg3\u001b[39m\u001b[38;5;124m\"\u001b[39m)\n",
      "Cell \u001b[1;32mIn[45], line 30\u001b[0m, in \u001b[0;36mLaptop.set_model\u001b[1;34m(self, new_model)\u001b[0m\n\u001b[0;32m     28\u001b[0m models\u001b[38;5;241m=\u001b[39m[\u001b[38;5;124m\"\u001b[39m\u001b[38;5;124mg2\u001b[39m\u001b[38;5;124m\"\u001b[39m,\u001b[38;5;124m\"\u001b[39m\u001b[38;5;124mg1\u001b[39m\u001b[38;5;124m\"\u001b[39m,\u001b[38;5;124m\"\u001b[39m\u001b[38;5;124mg3\u001b[39m\u001b[38;5;124m\"\u001b[39m]\n\u001b[0;32m     29\u001b[0m \u001b[38;5;28;01mif\u001b[39;00m new_model \u001b[38;5;129;01min\u001b[39;00m models:\n\u001b[1;32m---> 30\u001b[0m     \u001b[38;5;28mself\u001b[39m\u001b[38;5;241m.\u001b[39mmodel\u001b[38;5;241m-\u001b[39mnew_model\n\u001b[0;32m     31\u001b[0m \u001b[38;5;28;01melse\u001b[39;00m:\n\u001b[0;32m     32\u001b[0m     \u001b[38;5;28mprint\u001b[39m(\u001b[38;5;124mf\u001b[39m\u001b[38;5;124m\"\u001b[39m\u001b[38;5;124mThis model of laptop is not available\u001b[39m\u001b[38;5;124m\"\u001b[39m)\n",
      "\u001b[1;31mTypeError\u001b[0m: unsupported operand type(s) for -: 'str' and 'str'"
     ]
    }
   ],
   "source": [
    "lpt3.set_model(\"g3\")"
   ]
  },
  {
   "cell_type": "code",
   "execution_count": 18,
   "id": "bce6cc41",
   "metadata": {},
   "outputs": [
    {
     "data": {
      "text/plain": [
       "'green'"
      ]
     },
     "execution_count": 18,
     "metadata": {},
     "output_type": "execute_result"
    }
   ],
   "source": [
    "lpt2=Laptop(\"green\",\"4gb\",\"hp\",\"probook\",\"i7\")\n",
    "lpt2.color"
   ]
  },
  {
   "cell_type": "code",
   "execution_count": 19,
   "id": "f1301e91",
   "metadata": {},
   "outputs": [
    {
     "name": "stdout",
     "output_type": "stream",
     "text": [
      "\n",
      "              ram: 4gb\n",
      "              color: green\n",
      "              make: hp\n",
      "              model: probook\n",
      "              processor: i7\n",
      "              \n",
      "              \n",
      "              \n"
     ]
    }
   ],
   "source": [
    "Laptop.spec(lpt2)"
   ]
  },
  {
   "cell_type": "code",
   "execution_count": 84,
   "id": "da654582",
   "metadata": {},
   "outputs": [],
   "source": [
    "class Student():\n",
    "    def __init__(self,name,fname,id,year,dob):\n",
    "        self.name=name\n",
    "        self.fname=fname\n",
    "        self.id=id\n",
    "        self.year=year\n",
    "        self.dob=dob\n",
    "        \n",
    "    def display(self):\n",
    "        print(f\"\"\"\n",
    "        name: {self.name}\n",
    "        Father name: {self.fname}\n",
    "        id : {self.id}\n",
    "        year: {self.year}\n",
    "        dob: {self.dob}\n",
    "        \"\"\")\n",
    "    def checkAttendance(self):\n",
    "        attend=input(\"Enter your attendance: \")  \n",
    "        if attend>\"75\":\n",
    "            print(self.name,\"You are eligible to appear in exam\")\n",
    "        else:\n",
    "            print(\"You are not eligible to appear in exam\")"
   ]
  },
  {
   "cell_type": "code",
   "execution_count": 85,
   "id": "5cba7fc1",
   "metadata": {},
   "outputs": [],
   "source": [
    "std1=Student(\"Hareem\",\"Iftikhar\",\"42\",\"2019\",\"19sep00\")"
   ]
  },
  {
   "cell_type": "code",
   "execution_count": 86,
   "id": "63477283",
   "metadata": {},
   "outputs": [
    {
     "name": "stdout",
     "output_type": "stream",
     "text": [
      "\n",
      "        name: Hareem\n",
      "        Father name: Iftikhar\n",
      "        id : 42\n",
      "        year: 2019\n",
      "        dob: 19sep00\n",
      "        \n"
     ]
    }
   ],
   "source": [
    "std1.display()"
   ]
  },
  {
   "cell_type": "code",
   "execution_count": 87,
   "id": "d0721dc8",
   "metadata": {},
   "outputs": [
    {
     "name": "stdout",
     "output_type": "stream",
     "text": [
      "Enter your attendance: 87\n",
      "Hareem You are eligible to appear in exam\n"
     ]
    }
   ],
   "source": [
    "std1.checkAttendance()"
   ]
  },
  {
   "cell_type": "code",
   "execution_count": null,
   "id": "0c3470fb",
   "metadata": {},
   "outputs": [],
   "source": []
  },
  {
   "cell_type": "code",
   "execution_count": 68,
   "id": "ab4d1189",
   "metadata": {},
   "outputs": [],
   "source": [
    "std2=Student(\"Anoosha\",\"Malik\",\"21\",\"2019\",\"4sep99\")"
   ]
  },
  {
   "cell_type": "code",
   "execution_count": 70,
   "id": "82d9fb99",
   "metadata": {},
   "outputs": [
    {
     "name": "stdout",
     "output_type": "stream",
     "text": [
      "\n",
      "        name: Anoosha\n",
      "        Father name: Malik\n",
      "        id : 21\n",
      "        year: 2019\n",
      "        dob: 4sep99\n",
      "        \n"
     ]
    }
   ],
   "source": [
    "Student.display(std2)"
   ]
  },
  {
   "cell_type": "code",
   "execution_count": 74,
   "id": "8a5c7ff7",
   "metadata": {},
   "outputs": [],
   "source": [
    "class Employee():\n",
    "    def __init__(self,name,fname,id,join,job):\n",
    "        self.name=name\n",
    "        self.fname=fname\n",
    "        self.id=id\n",
    "        self.join=join\n",
    "        self.job=job\n",
    "    def display(self):\n",
    "        print(f\"\"\"\n",
    "        Name: {self.name}\n",
    "        Father name : {self.fname}\n",
    "        Id: {self.id}\n",
    "        join: {self.join}\n",
    "        Job: {self.job}\n",
    "         \n",
    "       \"\"\")\n"
   ]
  },
  {
   "cell_type": "markdown",
   "id": "f76bde23",
   "metadata": {},
   "source": [
    "emp1=Employee(\"Wajiha\")"
   ]
  },
  {
   "cell_type": "code",
   "execution_count": 75,
   "id": "96d93b22",
   "metadata": {},
   "outputs": [],
   "source": [
    "emp1=Employee(\"Wajiha\",\"Talha\",\"21\",\"2020\",\"Teacher\")"
   ]
  },
  {
   "cell_type": "code",
   "execution_count": 76,
   "id": "fc1d02d7",
   "metadata": {},
   "outputs": [
    {
     "name": "stdout",
     "output_type": "stream",
     "text": [
      "\n",
      "        Name: Wajiha\n",
      "        Father name : Talha\n",
      "        Id: 21\n",
      "        join: 2020\n",
      "        Job: Teacher\n",
      "         \n",
      "       \n"
     ]
    }
   ],
   "source": [
    "emp1.display()"
   ]
  },
  {
   "cell_type": "code",
   "execution_count": 4,
   "id": "53ecfc00",
   "metadata": {},
   "outputs": [],
   "source": [
    "class Laptop():\n",
    "    def __init__(self,color,ram,make,model,processor):\n",
    "        self.color=color\n",
    "        self.ram=ram\n",
    "        self.make=make\n",
    "        self.model=model\n",
    "        self.processor=processor\n",
    "    def spec(self):\n",
    "        print(f\"\"\"\n",
    "              ram: {self.ram}\n",
    "              color: {self.color}\n",
    "              make: {self.make}\n",
    "              model: {self.model}\n",
    "              processor: {self.processor}         \n",
    "              \"\"\")\n",
    "    def get_color(self):\n",
    "        print(f\"The color of laptop is : {self.color}\")\n",
    "    def set_color(self, new_color):\n",
    "        colors=[\"black\",\"red\",\"blue\"]\n",
    "        if new_color in colors:\n",
    "            self.color-new_color\n",
    "        else:\n",
    "            print(f\"This color of laptop is not available\")"
   ]
  },
  {
   "cell_type": "code",
   "execution_count": 2,
   "id": "6e11ea96",
   "metadata": {},
   "outputs": [
    {
     "ename": "NameError",
     "evalue": "name 'Laptop' is not defined",
     "output_type": "error",
     "traceback": [
      "\u001b[1;31m---------------------------------------------------------------------------\u001b[0m",
      "\u001b[1;31mNameError\u001b[0m                                 Traceback (most recent call last)",
      "Cell \u001b[1;32mIn[2], line 1\u001b[0m\n\u001b[1;32m----> 1\u001b[0m lpt1\u001b[38;5;241m=\u001b[39mLaptop(\u001b[38;5;124m\"\u001b[39m\u001b[38;5;124mred\u001b[39m\u001b[38;5;124m\"\u001b[39m,\u001b[38;5;124m\"\u001b[39m\u001b[38;5;124m4gb\u001b[39m\u001b[38;5;124m\"\u001b[39m,\u001b[38;5;124m\"\u001b[39m\u001b[38;5;124mhp\u001b[39m\u001b[38;5;124m\"\u001b[39m,\u001b[38;5;124m\"\u001b[39m\u001b[38;5;124mprobook\u001b[39m\u001b[38;5;124m\"\u001b[39m,\u001b[38;5;124m\"\u001b[39m\u001b[38;5;124mi7\u001b[39m\u001b[38;5;124m\"\u001b[39m)\n",
      "\u001b[1;31mNameError\u001b[0m: name 'Laptop' is not defined"
     ]
    }
   ],
   "source": [
    "lpt1=Laptop(\"red\",\"4gb\",\"hp\",\"probook\",\"i7\")"
   ]
  },
  {
   "cell_type": "code",
   "execution_count": null,
   "id": "c0b1679d",
   "metadata": {},
   "outputs": [],
   "source": []
  }
 ],
 "metadata": {
  "kernelspec": {
   "display_name": "Python 3 (ipykernel)",
   "language": "python",
   "name": "python3"
  },
  "language_info": {
   "codemirror_mode": {
    "name": "ipython",
    "version": 3
   },
   "file_extension": ".py",
   "mimetype": "text/x-python",
   "name": "python",
   "nbconvert_exporter": "python",
   "pygments_lexer": "ipython3",
   "version": "3.11.3"
  }
 },
 "nbformat": 4,
 "nbformat_minor": 5
}
