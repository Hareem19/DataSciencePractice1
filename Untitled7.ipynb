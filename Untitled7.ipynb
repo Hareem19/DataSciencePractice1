{
 "cells": [
  {
   "cell_type": "markdown",
   "id": "aa911b46",
   "metadata": {},
   "source": [
    "# Inheritance"
   ]
  },
  {
   "cell_type": "raw",
   "id": "9980add7",
   "metadata": {},
   "source": []
  },
  {
   "cell_type": "code",
   "execution_count": 1,
   "id": "12ad094d",
   "metadata": {},
   "outputs": [],
   "source": [
    "class Car():\n",
    "    def __init__(self,model,make,capacity):\n",
    "        self.model=model\n",
    "        self.make=make\n",
    "        self.capacity=capacity\n",
    "        self.odometer_reading=0\n",
    "    def get_milleage(self):\n",
    "        print(self.odometer_reading)\n",
    "    def set_mileage(self,new_reading):\n",
    "        if new_reading>self.odometer_reading:\n",
    "            self.odometer_reading=new_reading\n",
    "        else:\n",
    "            print(\"not be reversed\")\n",
    "    def describe_car(self):\n",
    "        print(self.model,self.make,self.capacity,self.odometer_reading)\n",
    "    def fuel_tank(self):\n",
    "        print(\"full\")"
   ]
  },
  {
   "cell_type": "code",
   "execution_count": 2,
   "id": "83c9e115",
   "metadata": {},
   "outputs": [],
   "source": [
    "car1=Car(2013,\"honda\",9)"
   ]
  },
  {
   "cell_type": "markdown",
   "id": "fbce5e05",
   "metadata": {},
   "source": [
    "# "
   ]
  },
  {
   "cell_type": "code",
   "execution_count": 3,
   "id": "0bc7085f",
   "metadata": {},
   "outputs": [
    {
     "name": "stdout",
     "output_type": "stream",
     "text": [
      "2013 honda 9 0\n"
     ]
    }
   ],
   "source": [
    "car1.describe_car()"
   ]
  },
  {
   "cell_type": "code",
   "execution_count": 4,
   "id": "4a6f36b7",
   "metadata": {},
   "outputs": [
    {
     "name": "stdout",
     "output_type": "stream",
     "text": [
      "0\n"
     ]
    }
   ],
   "source": [
    "car1.get_milleage()"
   ]
  },
  {
   "cell_type": "code",
   "execution_count": 5,
   "id": "f034e243",
   "metadata": {},
   "outputs": [],
   "source": [
    "class Electric_car(Car):\n",
    "    def fuel_tank(self):\n",
    "        print(\"Electric car needs no fuel\")\n",
    "    pass"
   ]
  },
  {
   "cell_type": "code",
   "execution_count": 22,
   "id": "8e54c19f",
   "metadata": {},
   "outputs": [],
   "source": []
  },
  {
   "cell_type": "code",
   "execution_count": null,
   "id": "b1545dd6",
   "metadata": {},
   "outputs": [],
   "source": []
  },
  {
   "cell_type": "code",
   "execution_count": 35,
   "id": "d27a83d6",
   "metadata": {},
   "outputs": [],
   "source": [
    "class Battery():\n",
    "    def __init__(self,name,cell,amp,backup):\n",
    "        self.name=name\n",
    "        self.cell=cell\n",
    "        self.amp=amp\n",
    "        self.backup=backup"
   ]
  },
  {
   "cell_type": "code",
   "execution_count": 36,
   "id": "5c25dba3",
   "metadata": {},
   "outputs": [],
   "source": [
    "class Electric_car(Car):\n",
    "    def __init__(self,model,make,capacity,wheels,max_speed,b_name,b_cell,b_amp,b_backup):\n",
    "        super().__init__(model,make,capacity)\n",
    "        self.wheels=wheels\n",
    "        self.max_spedd=max_speed\n",
    "        self.battery=Battery(b_name,b_cell,b_amp,b_backup)\n",
    "    def fuel_tank(self):\n",
    "        print(\"Electric car needs no fuel\") \n",
    "    \n",
    "    pass\n",
    "               "
   ]
  },
  {
   "cell_type": "code",
   "execution_count": 39,
   "id": "74b48089",
   "metadata": {},
   "outputs": [],
   "source": [
    "myEC=Electric_car(\"xyz\",\"honda\",\"5\",\"6\",\"20\",\"osaka\",\"27\",\"10\",\"6\")"
   ]
  },
  {
   "cell_type": "code",
   "execution_count": null,
   "id": "29d9667d",
   "metadata": {},
   "outputs": [],
   "source": []
  },
  {
   "cell_type": "raw",
   "id": "751c9bd2",
   "metadata": {},
   "source": []
  },
  {
   "cell_type": "markdown",
   "id": "46438dba",
   "metadata": {},
   "source": [
    "# "
   ]
  },
  {
   "cell_type": "markdown",
   "id": "41d311ca",
   "metadata": {},
   "source": [
    "# "
   ]
  },
  {
   "cell_type": "code",
   "execution_count": 6,
   "id": "1663de59",
   "metadata": {},
   "outputs": [],
   "source": [
    "car1.set_mileage(9)"
   ]
  },
  {
   "cell_type": "code",
   "execution_count": 7,
   "id": "e5a7ca12",
   "metadata": {},
   "outputs": [
    {
     "name": "stdout",
     "output_type": "stream",
     "text": [
      "9\n"
     ]
    }
   ],
   "source": [
    "car1.get_milleage()"
   ]
  },
  {
   "cell_type": "code",
   "execution_count": 8,
   "id": "527ca872",
   "metadata": {},
   "outputs": [],
   "source": [
    "ec1=Electric_car(\"2023\",\"tesla\",\"4\")"
   ]
  },
  {
   "cell_type": "code",
   "execution_count": 9,
   "id": "34772a93",
   "metadata": {},
   "outputs": [
    {
     "name": "stdout",
     "output_type": "stream",
     "text": [
      "2023 tesla 4 0\n"
     ]
    }
   ],
   "source": [
    "ec1.describe_car()"
   ]
  },
  {
   "cell_type": "code",
   "execution_count": 10,
   "id": "ae261209",
   "metadata": {},
   "outputs": [
    {
     "name": "stdout",
     "output_type": "stream",
     "text": [
      "Electric car needs no fuel\n"
     ]
    }
   ],
   "source": [
    "ec1.fuel_tank()"
   ]
  },
  {
   "cell_type": "code",
   "execution_count": 11,
   "id": "7f4332af",
   "metadata": {},
   "outputs": [
    {
     "name": "stdout",
     "output_type": "stream",
     "text": [
      "0\n"
     ]
    }
   ],
   "source": [
    "ec1.get_milleage()"
   ]
  },
  {
   "cell_type": "markdown",
   "id": "40abbfac",
   "metadata": {},
   "source": [
    "# "
   ]
  },
  {
   "cell_type": "code",
   "execution_count": 14,
   "id": "70d762bd",
   "metadata": {},
   "outputs": [
    {
     "name": "stdout",
     "output_type": "stream",
     "text": [
      "not be reversed\n"
     ]
    }
   ],
   "source": [
    "ec1.set_mileage(8)"
   ]
  },
  {
   "cell_type": "markdown",
   "id": "ca468864",
   "metadata": {},
   "source": [
    "# "
   ]
  },
  {
   "cell_type": "code",
   "execution_count": 13,
   "id": "db702358",
   "metadata": {},
   "outputs": [
    {
     "name": "stdout",
     "output_type": "stream",
     "text": [
      "8\n"
     ]
    }
   ],
   "source": [
    "ec1.get_milleage()"
   ]
  },
  {
   "cell_type": "markdown",
   "id": "8f9829ad",
   "metadata": {},
   "source": [
    "# "
   ]
  },
  {
   "cell_type": "markdown",
   "id": "97e358cf",
   "metadata": {},
   "source": [
    "# "
   ]
  },
  {
   "cell_type": "markdown",
   "id": "a4e2c06d",
   "metadata": {},
   "source": [
    "# "
   ]
  },
  {
   "cell_type": "markdown",
   "id": "9a64f5ec",
   "metadata": {},
   "source": []
  },
  {
   "cell_type": "markdown",
   "id": "402bd977",
   "metadata": {},
   "source": [
    "# "
   ]
  },
  {
   "cell_type": "markdown",
   "id": "13abb9b4",
   "metadata": {},
   "source": [
    "# "
   ]
  }
 ],
 "metadata": {
  "kernelspec": {
   "display_name": "Python 3 (ipykernel)",
   "language": "python",
   "name": "python3"
  },
  "language_info": {
   "codemirror_mode": {
    "name": "ipython",
    "version": 3
   },
   "file_extension": ".py",
   "mimetype": "text/x-python",
   "name": "python",
   "nbconvert_exporter": "python",
   "pygments_lexer": "ipython3",
   "version": "3.11.3"
  }
 },
 "nbformat": 4,
 "nbformat_minor": 5
}
