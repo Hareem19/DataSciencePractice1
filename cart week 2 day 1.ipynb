{
 "cells": [
  {
   "cell_type": "code",
   "execution_count": 1,
   "id": "cd1e8f76",
   "metadata": {},
   "outputs": [],
   "source": [
    "def discount_calc(bill_amt):\n",
    "    if bill_amt > 30000:\n",
    "        discount = bill_amt*.30\n",
    "    elif bill_amt > 25000:\n",
    "        discount = bill_amt*.25        \n",
    "    elif bill_amt > 20000:\n",
    "        discount = bill_amt*.20\n",
    "    elif bill_amt > 15000:\n",
    "        discount = bill_amt*.15\n",
    "    elif bill_amt > 10000:\n",
    "        discount = bill_amt*.10        \n",
    "    else:\n",
    "        discount = bill_amt*0\n",
    "    return discount"
   ]
  },
  {
   "cell_type": "code",
   "execution_count": 2,
   "id": "c8835f87",
   "metadata": {},
   "outputs": [],
   "source": [
    "store_items={\"maggie\":500}\n",
    "\n",
    "def store():\n",
    "    amt=0\n",
    "    cart=[]\n",
    "    while True:\n",
    "        order=input(\"ORDER PLZ or q to Quit\").lower()\n",
    "        if order!=\"q\":\n",
    "            if order in store_items.keys():\n",
    "                if(amt+store_items[order])<5000:\n",
    "                    amt+=store_items[order]\n",
    "                    cart.append(order)\n",
    "                    display()\n",
    "                else:\n",
    "                    continue\n",
    "            else:\n",
    "                print(f\"Sorry,{order} not available\")\n",
    "        else:\n",
    "            break\n",
    "            \n",
    "# def display():\n",
    "#     print(cart)\n",
    "#     print(amt)\n",
    "            "
   ]
  },
  {
   "cell_type": "code",
   "execution_count": 3,
   "id": "fa580f51",
   "metadata": {},
   "outputs": [],
   "source": [
    "#method 1 positional parameters or positional arguments\n",
    "# sequence k hisab sy chl rhy hngy\n",
    "#method 2 middle name=\" \" kar k parameter pass karna ha\n",
    "#middlename=\"\" default value dydna bnaty huey he  default and keyword args last  m  hny chayey.. is sy agr apko arg bh na mly tw bh chl jta ha\n",
    "#"
   ]
  },
  {
   "cell_type": "markdown",
   "id": "0c06fcca",
   "metadata": {},
   "source": [
    "# arbitrary arg\n",
    "overloading ek he z==chz mukhtlif treqy sy , + k 2 behaviour jsy,  python m overloading nh ha, wo over write hjyega\n",
    "jb sy zyada arg dny ho unknown *n lga kar ye return kry ga tuple"
   ]
  },
  {
   "cell_type": "code",
   "execution_count": null,
   "id": "0ffcb66c",
   "metadata": {},
   "outputs": [],
   "source": [
    "def sunmm(*n):\n",
    "    return sum(n)"
   ]
  },
  {
   "cell_type": "code",
   "execution_count": null,
   "id": "32ffc917",
   "metadata": {},
   "outputs": [],
   "source": [
    "summ(1,1,1,1,1)"
   ]
  },
  {
   "cell_type": "code",
   "execution_count": null,
   "id": "3f3ae8df",
   "metadata": {},
   "outputs": [],
   "source": [
    "def invite(*gst)\n",
    "    for g in gst:\n",
    "        print(gst)"
   ]
  },
  {
   "cell_type": "markdown",
   "id": "1bc180b1",
   "metadata": {},
   "source": [
    "\n",
    "\n",
    "# docstring\n",
    "this take single or many values and return a integer number after summing all values"
   ]
  },
  {
   "cell_type": "code",
   "execution_count": null,
   "id": "d7e8f380",
   "metadata": {},
   "outputs": [],
   "source": [
    "store()"
   ]
  },
  {
   "cell_type": "code",
   "execution_count": null,
   "id": "ad21fa4b",
   "metadata": {},
   "outputs": [],
   "source": []
  },
  {
   "cell_type": "code",
   "execution_count": null,
   "id": "d969cebf",
   "metadata": {},
   "outputs": [],
   "source": []
  },
  {
   "cell_type": "code",
   "execution_count": null,
   "id": "ec0e1d4c",
   "metadata": {},
   "outputs": [],
   "source": [
    "store()"
   ]
  },
  {
   "cell_type": "code",
   "execution_count": null,
   "id": "5a7d2952",
   "metadata": {},
   "outputs": [],
   "source": [
    "display():\n",
    "    print(cart)\n",
    "    print(amt)"
   ]
  }
 ],
 "metadata": {
  "kernelspec": {
   "display_name": "Python 3 (ipykernel)",
   "language": "python",
   "name": "python3"
  },
  "language_info": {
   "codemirror_mode": {
    "name": "ipython",
    "version": 3
   },
   "file_extension": ".py",
   "mimetype": "text/x-python",
   "name": "python",
   "nbconvert_exporter": "python",
   "pygments_lexer": "ipython3",
   "version": "3.11.3"
  }
 },
 "nbformat": 4,
 "nbformat_minor": 5
}
