{
 "cells": [
  {
   "cell_type": "code",
   "execution_count": 1,
   "id": "3eda7836",
   "metadata": {},
   "outputs": [],
   "source": [
    "def discount_calc(bill_amt):\n",
    "    if bill_amt > 30000:\n",
    "        discount = bill_amt*.30\n",
    "    elif bill_amt > 25000:\n",
    "        discount = bill_amt*.25        \n",
    "    elif bill_amt > 20000:\n",
    "        discount = bill_amt*.20\n",
    "    elif bill_amt > 15000:\n",
    "        discount = bill_amt*.15\n",
    "    elif bill_amt > 10000:\n",
    "        discount = bill_amt*.10        \n",
    "    else:\n",
    "        discount = bill_amt*0\n",
    "    return discount"
   ]
  },
  {
   "cell_type": "code",
   "execution_count": 17,
   "id": "71600384",
   "metadata": {},
   "outputs": [],
   "source": [
    "store_items={\"maggie\":500}\n",
    "\n",
    "def store():\n",
    "    amt=0\n",
    "    cart=[]\n",
    "    while True:\n",
    "        order=input(\"ORDER PLZ or q to Quit\").lower()\n",
    "        if order!=\"q\":\n",
    "            if order in store_items.keys():\n",
    "                if(amt+store_items[order])<5000:\n",
    "                    amt+=store_items[order]\n",
    "                    cart.append(order)\n",
    "                    display()\n",
    "                else:\n",
    "                    continue\n",
    "            else:\n",
    "                print(f\"Sorry,{order} not available\")\n",
    "        else:\n",
    "            break\n",
    "            \n",
    "# def display():\n",
    "#     print(cart)\n",
    "#     print(amt)\n",
    "            "
   ]
  },
  {
   "cell_type": "code",
   "execution_count": 18,
   "id": "74bad4d6",
   "metadata": {},
   "outputs": [
    {
     "name": "stdout",
     "output_type": "stream",
     "text": [
      "ORDER PLZ or q to Quitd\n",
      "Sorry,d not available\n",
      "ORDER PLZ or q to Quitmaggie\n"
     ]
    },
    {
     "ename": "NameError",
     "evalue": "name 'cart' is not defined",
     "output_type": "error",
     "traceback": [
      "\u001b[1;31m---------------------------------------------------------------------------\u001b[0m",
      "\u001b[1;31mNameError\u001b[0m                                 Traceback (most recent call last)",
      "Cell \u001b[1;32mIn[18], line 1\u001b[0m\n\u001b[1;32m----> 1\u001b[0m store()\n",
      "Cell \u001b[1;32mIn[17], line 13\u001b[0m, in \u001b[0;36mstore\u001b[1;34m()\u001b[0m\n\u001b[0;32m     11\u001b[0m     amt\u001b[38;5;241m+\u001b[39m\u001b[38;5;241m=\u001b[39mstore_items[order]\n\u001b[0;32m     12\u001b[0m     cart\u001b[38;5;241m.\u001b[39mappend(order)\n\u001b[1;32m---> 13\u001b[0m     display()\n\u001b[0;32m     14\u001b[0m \u001b[38;5;28;01melse\u001b[39;00m:\n\u001b[0;32m     15\u001b[0m     \u001b[38;5;28;01mcontinue\u001b[39;00m\n",
      "Cell \u001b[1;32mIn[17], line 22\u001b[0m, in \u001b[0;36mdisplay\u001b[1;34m()\u001b[0m\n\u001b[0;32m     21\u001b[0m \u001b[38;5;28;01mdef\u001b[39;00m \u001b[38;5;21mdisplay\u001b[39m():\n\u001b[1;32m---> 22\u001b[0m     \u001b[38;5;28mprint\u001b[39m(cart)\n\u001b[0;32m     23\u001b[0m     \u001b[38;5;28mprint\u001b[39m(amt)\n",
      "\u001b[1;31mNameError\u001b[0m: name 'cart' is not defined"
     ]
    }
   ],
   "source": [
    "store()"
   ]
  },
  {
   "cell_type": "code",
   "execution_count": 8,
   "id": "f890693a",
   "metadata": {},
   "outputs": [
    {
     "name": "stdout",
     "output_type": "stream",
     "text": [
      "ORDER PLZ or q to Quitmaggie\n"
     ]
    },
    {
     "ename": "NameError",
     "evalue": "name 'dssplay' is not defined",
     "output_type": "error",
     "traceback": [
      "\u001b[1;31m---------------------------------------------------------------------------\u001b[0m",
      "\u001b[1;31mNameError\u001b[0m                                 Traceback (most recent call last)",
      "Cell \u001b[1;32mIn[8], line 1\u001b[0m\n\u001b[1;32m----> 1\u001b[0m store()\n",
      "Cell \u001b[1;32mIn[6], line 12\u001b[0m, in \u001b[0;36mstore\u001b[1;34m()\u001b[0m\n\u001b[0;32m     10\u001b[0m     amt\u001b[38;5;241m+\u001b[39m\u001b[38;5;241m=\u001b[39mstore_items[order]\n\u001b[0;32m     11\u001b[0m     cart\u001b[38;5;241m.\u001b[39mappend(order)\n\u001b[1;32m---> 12\u001b[0m     dssplay()\n\u001b[0;32m     13\u001b[0m \u001b[38;5;28;01melse\u001b[39;00m:\n\u001b[0;32m     14\u001b[0m     \u001b[38;5;28;01mcontinue\u001b[39;00m\n",
      "\u001b[1;31mNameError\u001b[0m: name 'dssplay' is not defined"
     ]
    }
   ],
   "source": [
    "store()"
   ]
  },
  {
   "cell_type": "code",
   "execution_count": null,
   "id": "354c1cbc",
   "metadata": {},
   "outputs": [],
   "source": [
    "display():\n",
    "    print(cart)\n",
    "    print(amt)"
   ]
  }
 ],
 "metadata": {
  "kernelspec": {
   "display_name": "Python 3 (ipykernel)",
   "language": "python",
   "name": "python3"
  },
  "language_info": {
   "codemirror_mode": {
    "name": "ipython",
    "version": 3
   },
   "file_extension": ".py",
   "mimetype": "text/x-python",
   "name": "python",
   "nbconvert_exporter": "python",
   "pygments_lexer": "ipython3",
   "version": "3.11.3"
  }
 },
 "nbformat": 4,
 "nbformat_minor": 5
}
