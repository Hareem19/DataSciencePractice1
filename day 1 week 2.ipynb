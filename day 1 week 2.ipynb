{
 "cells": [
  {
   "cell_type": "code",
   "execution_count": 2,
   "id": "cf41a6c4",
   "metadata": {},
   "outputs": [],
   "source": [
    "def greet():\n",
    "    print(\"Hello\")\n",
    "# pARAMETER LESS FN"
   ]
  },
  {
   "cell_type": "code",
   "execution_count": 3,
   "id": "b7b8f9cc",
   "metadata": {},
   "outputs": [],
   "source": [
    "def greet_user(name):\n",
    "#     su=ignature sy check krlty\\\n",
    "   print(\"hello\", name)\n",
    "  "
   ]
  },
  {
   "cell_type": "code",
   "execution_count": 4,
   "id": "523bfa07",
   "metadata": {},
   "outputs": [
    {
     "name": "stdout",
     "output_type": "stream",
     "text": [
      "hello hareem\n"
     ]
    }
   ],
   "source": [
    "greet_user(\"hareem\")"
   ]
  },
  {
   "cell_type": "code",
   "execution_count": 29,
   "id": "567384e4",
   "metadata": {},
   "outputs": [],
   "source": [
    "def word_counter():\n",
    "    words=0\n",
    "    user_para=input(\"Type a paragraph please\")\n",
    "    for word in user_para:\n",
    "        if word==\" \" or word==\"\\t\":\n",
    "            words+=1\n",
    "    print(words+1)\n"
   ]
  },
  {
   "cell_type": "code",
   "execution_count": 30,
   "id": "4b352568",
   "metadata": {},
   "outputs": [
    {
     "name": "stdout",
     "output_type": "stream",
     "text": [
      "Type a paragraph pleasehareem name\n",
      "2\n"
     ]
    }
   ],
   "source": [
    "word_counter()"
   ]
  },
  {
   "cell_type": "code",
   "execution_count": 31,
   "id": "a3bebebf",
   "metadata": {},
   "outputs": [],
   "source": [
    "\n",
    "def sentence_counter():\n",
    "    sentences=0\n",
    "    user_para=input(\"Type a paragraph please\")\n",
    "    for sent in user_para:\n",
    "        if sent==\".\":\n",
    "            sentences+=1\n",
    "    print(sentences+1)\n",
    "#     name is hareem. learning data science."
   ]
  },
  {
   "cell_type": "code",
   "execution_count": 28,
   "id": "fc28363a",
   "metadata": {},
   "outputs": [
    {
     "name": "stdout",
     "output_type": "stream",
     "text": [
      "Type a paragraph pleasename is hareem. learning data science.\n",
      "3\n"
     ]
    }
   ],
   "source": [
    "sentence_counter()"
   ]
  },
  {
   "cell_type": "code",
   "execution_count": 35,
   "id": "8a651d39",
   "metadata": {},
   "outputs": [],
   "source": [
    "def cal():\n",
    "    a=int(input())\n",
    "    b=int(input())\n",
    "    opr=input()\n",
    "    if opr==\"*\":\n",
    "        print(a*b)\n",
    "    elif opr==\"-\":\n",
    "        print(a-b)\n",
    "    elif opr==\"/\":\n",
    "        if b==0:\n",
    "            print(\"Infinite\")\n",
    "        else:\n",
    "            print(a/b)\n",
    "    elif opr==\"+\":\n",
    "        print(a+b)\n",
    "        "
   ]
  },
  {
   "cell_type": "code",
   "execution_count": 36,
   "id": "09afe8db",
   "metadata": {},
   "outputs": [
    {
     "name": "stdout",
     "output_type": "stream",
     "text": [
      "2\n",
      "0\n",
      "/\n",
      "Infinite\n"
     ]
    }
   ],
   "source": [
    "cal()"
   ]
  },
  {
   "cell_type": "code",
   "execution_count": null,
   "id": "0cf385fe",
   "metadata": {},
   "outputs": [],
   "source": [
    "def counts(text):\n",
    "    \n",
    "    words=print(len(text.split(' ')))\n",
    "    \n",
    "    sentences=print(len(text.split('.')))\n",
    "    \n",
    "    chars=print(len(text))\n",
    "    \n",
    "    print()"
   ]
  },
  {
   "cell_type": "code",
   "execution_count": 47,
   "id": "b4a5e4cb",
   "metadata": {},
   "outputs": [],
   "source": [
    "def disc(bill):\n",
    "    print(int(bill)-(10/100)*bill)\n",
    "    "
   ]
  },
  {
   "cell_type": "code",
   "execution_count": 48,
   "id": "b5ac67a8",
   "metadata": {},
   "outputs": [
    {
     "name": "stdout",
     "output_type": "stream",
     "text": [
      "90.0\n"
     ]
    }
   ],
   "source": [
    "disc(100)"
   ]
  },
  {
   "cell_type": "code",
   "execution_count": 71,
   "id": "7cf27a9d",
   "metadata": {},
   "outputs": [],
   "source": [
    "def disc(bill):\n",
    "    if bill>=1000:\n",
    "        discount=bill*.30\n",
    "    elif bill>=500:\n",
    "        discount=bill*.20\n",
    "    return discount"
   ]
  },
  {
   "cell_type": "code",
   "execution_count": 72,
   "id": "ef052c37",
   "metadata": {},
   "outputs": [
    {
     "data": {
      "text/plain": [
       "120.0"
      ]
     },
     "execution_count": 72,
     "metadata": {},
     "output_type": "execute_result"
    }
   ],
   "source": [
    "disc(600)"
   ]
  },
  {
   "cell_type": "code",
   "execution_count": null,
   "id": "2fdda9f3",
   "metadata": {},
   "outputs": [],
   "source": []
  },
  {
   "cell_type": "code",
   "execution_count": 73,
   "id": "194341ed",
   "metadata": {},
   "outputs": [],
   "source": [
    "\n"
   ]
  },
  {
   "cell_type": "code",
   "execution_count": null,
   "id": "61af7e13",
   "metadata": {},
   "outputs": [],
   "source": []
  }
 ],
 "metadata": {
  "kernelspec": {
   "display_name": "Python 3 (ipykernel)",
   "language": "python",
   "name": "python3"
  },
  "language_info": {
   "codemirror_mode": {
    "name": "ipython",
    "version": 3
   },
   "file_extension": ".py",
   "mimetype": "text/x-python",
   "name": "python",
   "nbconvert_exporter": "python",
   "pygments_lexer": "ipython3",
   "version": "3.11.3"
  }
 },
 "nbformat": 4,
 "nbformat_minor": 5
}
