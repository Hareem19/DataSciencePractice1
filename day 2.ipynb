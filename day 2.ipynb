{
 "cells": [
  {
   "cell_type": "code",
   "execution_count": 2,
   "id": "2f7e11c7",
   "metadata": {},
   "outputs": [
    {
     "data": {
      "text/plain": [
       "[3, 4, 5]"
      ]
     },
     "execution_count": 2,
     "metadata": {},
     "output_type": "execute_result"
    }
   ],
   "source": [
    "nums=[]\n",
    "nums=[1,2,3,4,5]\n",
    "nums[2:5]\n"
   ]
  },
  {
   "cell_type": "code",
   "execution_count": 9,
   "id": "0acfee6f",
   "metadata": {},
   "outputs": [
    {
     "data": {
      "text/plain": [
       "[2, 3, 4, 5]"
      ]
     },
     "execution_count": 9,
     "metadata": {},
     "output_type": "execute_result"
    }
   ],
   "source": [
    "nums[1:5]"
   ]
  },
  {
   "cell_type": "code",
   "execution_count": 18,
   "id": "70b99fbc",
   "metadata": {},
   "outputs": [
    {
     "data": {
      "text/plain": [
       "['I', 'am', 'learning.']"
      ]
     },
     "execution_count": 18,
     "metadata": {},
     "output_type": "execute_result"
    }
   ],
   "source": [
    "text=\"I am learning.\"\n",
    "splitted=text.split(' ')\n",
    "splitted"
   ]
  },
  {
   "cell_type": "code",
   "execution_count": 23,
   "id": "9e8085d7",
   "metadata": {},
   "outputs": [],
   "source": [
    "reversed=splitted[::-1]"
   ]
  },
  {
   "cell_type": "code",
   "execution_count": 24,
   "id": "f24cddff",
   "metadata": {},
   "outputs": [
    {
     "data": {
      "text/plain": [
       "['learning.', 'am', 'I']"
      ]
     },
     "execution_count": 24,
     "metadata": {},
     "output_type": "execute_result"
    }
   ],
   "source": [
    "reversed"
   ]
  },
  {
   "cell_type": "code",
   "execution_count": 25,
   "id": "f3cdbd0f",
   "metadata": {},
   "outputs": [
    {
     "data": {
      "text/plain": [
       "'learning. am I'"
      ]
     },
     "execution_count": 25,
     "metadata": {},
     "output_type": "execute_result"
    }
   ],
   "source": [
    "' '.join(reversed)"
   ]
  },
  {
   "cell_type": "code",
   "execution_count": 38,
   "id": "adfc25fd",
   "metadata": {},
   "outputs": [
    {
     "data": {
      "text/plain": [
       "'learning. am I'"
      ]
     },
     "execution_count": 38,
     "metadata": {},
     "output_type": "execute_result"
    }
   ],
   "source": [
    "text=\"I am learning.\"\n",
    "' '.join(text.split(' ')[::-1])"
   ]
  },
  {
   "cell_type": "code",
   "execution_count": 7,
   "id": "0714173f",
   "metadata": {},
   "outputs": [],
   "source": [
    "t=('tuple',)"
   ]
  },
  {
   "cell_type": "code",
   "execution_count": 8,
   "id": "5b9c24b1",
   "metadata": {},
   "outputs": [
    {
     "data": {
      "text/plain": [
       "tuple"
      ]
     },
     "execution_count": 8,
     "metadata": {},
     "output_type": "execute_result"
    }
   ],
   "source": [
    "type(t)"
   ]
  },
  {
   "cell_type": "code",
   "execution_count": null,
   "id": "c350b49f",
   "metadata": {},
   "outputs": [],
   "source": []
  }
 ],
 "metadata": {
  "kernelspec": {
   "display_name": "Python 3 (ipykernel)",
   "language": "python",
   "name": "python3"
  },
  "language_info": {
   "codemirror_mode": {
    "name": "ipython",
    "version": 3
   },
   "file_extension": ".py",
   "mimetype": "text/x-python",
   "name": "python",
   "nbconvert_exporter": "python",
   "pygments_lexer": "ipython3",
   "version": "3.11.3"
  }
 },
 "nbformat": 4,
 "nbformat_minor": 5
}
