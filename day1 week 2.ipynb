{
 "cells": [
  {
   "cell_type": "code",
   "execution_count": 9,
   "id": "fa7ed99b",
   "metadata": {},
   "outputs": [],
   "source": [
    "# \n",
    "import modulemath"
   ]
  },
  {
   "cell_type": "markdown",
   "id": "14b0e629",
   "metadata": {},
   "source": [
    "modulemath.addfn(1,2,3,4)"
   ]
  },
  {
   "cell_type": "code",
   "execution_count": 10,
   "id": "639f5e33",
   "metadata": {},
   "outputs": [
    {
     "data": {
      "text/plain": [
       "10"
      ]
     },
     "execution_count": 10,
     "metadata": {},
     "output_type": "execute_result"
    }
   ],
   "source": [
    "modulemath.addfn(1,2,3,4)"
   ]
  },
  {
   "cell_type": "code",
   "execution_count": null,
   "id": "544e9288",
   "metadata": {},
   "outputs": [],
   "source": [
    "# %load modulemath.py\n",
    "def addfn(*a):\n",
    "\n",
    "    \"\"\" # docstring\n",
    "this take single or many values and return a integer number after summing all values \n",
    "jsyy hamen or function ka dikh rha ha\n",
    "\n",
    "    \"\"\"\n",
    "    return sum(a)"
   ]
  },
  {
   "cell_type": "code",
   "execution_count": null,
   "id": "a7ac7189",
   "metadata": {},
   "outputs": [],
   "source": [
    "# %load modulemath.py\n",
    "def addfn(*a):\n",
    "\n",
    "    \"\"\" # docstring\n",
    "this take single or many values and return a integer number after summing all values \n",
    "jsyy hamen or function ka dikh rha ha\n",
    "\n",
    "    \"\"\"\n",
    "    return sum(a)"
   ]
  },
  {
   "cell_type": "code",
   "execution_count": 15,
   "id": "6b636f68",
   "metadata": {},
   "outputs": [
    {
     "name": "stdout",
     "output_type": "stream",
     "text": [
      "This is a module\n"
     ]
    }
   ],
   "source": [
    "\n",
    "%run modulemath.py"
   ]
  },
  {
   "cell_type": "markdown",
   "id": "07286888",
   "metadata": {},
   "source": [
    "# Exception handling\n",
    "how to handle error specially jb wo run time par ho tw \n",
    "pattern sy ksi chz ka hat jana \n",
    "ye syntax error nh ha \n"
   ]
  },
  {
   "cell_type": "code",
   "execution_count": 32,
   "id": "68f1b128",
   "metadata": {},
   "outputs": [
    {
     "name": "stdout",
     "output_type": "stream",
     "text": [
      "1\n",
      "0\n",
      "num not divisible by 0\n"
     ]
    }
   ],
   "source": [
    "\n",
    "try:    \n",
    "    n1=int(input())\n",
    "    n2=int(input())\n",
    "    p=n1/n2\n",
    "except ZeroDivisionError:\n",
    "    print(\"num not divisible by 0\")\n",
    "except ValueError:\n",
    "    print(\"only digits please\")\n",
    "else:    \n",
    "    print(p)"
   ]
  },
  {
   "cell_type": "markdown",
   "id": "69ab88dc",
   "metadata": {},
   "source": [
    "# general\n"
   ]
  },
  {
   "cell_type": "code",
   "execution_count": 33,
   "id": "58aefcc2",
   "metadata": {},
   "outputs": [
    {
     "name": "stdout",
     "output_type": "stream",
     "text": [
      "4\n",
      "0\n",
      "something wrong\n"
     ]
    }
   ],
   "source": [
    "\n",
    "try:    \n",
    "    n1=int(input())\n",
    "    n2=int(input())\n",
    "    p=n1/n2\n",
    "except:\n",
    "    print(\"something wrong\")\n",
    "else:    \n",
    "    print(p)"
   ]
  },
  {
   "cell_type": "code",
   "execution_count": null,
   "id": "3d0a06c8",
   "metadata": {},
   "outputs": [],
   "source": []
  }
 ],
 "metadata": {
  "kernelspec": {
   "display_name": "Python 3 (ipykernel)",
   "language": "python",
   "name": "python3"
  },
  "language_info": {
   "codemirror_mode": {
    "name": "ipython",
    "version": 3
   },
   "file_extension": ".py",
   "mimetype": "text/x-python",
   "name": "python",
   "nbconvert_exporter": "python",
   "pygments_lexer": "ipython3",
   "version": "3.11.3"
  }
 },
 "nbformat": 4,
 "nbformat_minor": 5
}
