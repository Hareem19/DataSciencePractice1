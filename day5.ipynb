{
 "cells": [
  {
   "cell_type": "code",
   "execution_count": 3,
   "id": "68e6d9b9",
   "metadata": {},
   "outputs": [
    {
     "name": "stdout",
     "output_type": "stream",
     "text": [
      "hareem good\n",
      "hareem smart\n",
      "arfa good\n",
      "arfa smart\n",
      "wajiha good\n",
      "wajiha smart\n"
     ]
    }
   ],
   "source": [
    "names=['hareem','arfa','wajiha']\n",
    "tags=['good','smart']\n",
    "for name in names:\n",
    "    for tag in tags:\n",
    "        print(name,tag)   "
   ]
  },
  {
   "cell_type": "code",
   "execution_count": 21,
   "id": "07dcef08",
   "metadata": {},
   "outputs": [
    {
     "name": "stdout",
     "output_type": "stream",
     "text": [
      "\n",
      "\n",
      "1 * 2  = 2\n",
      "1 * 3  = 3\n",
      "1 * 4  = 4\n",
      "1 * 5  = 5\n",
      "1 * 6  = 6\n",
      "1 * 7  = 7\n",
      "1 * 8  = 8\n",
      "1 * 9  = 9\n",
      "1 * 10  = 10\n",
      "\n",
      "\n",
      "2 * 2  = 4\n",
      "2 * 3  = 6\n",
      "2 * 4  = 8\n",
      "2 * 5  = 10\n",
      "2 * 6  = 12\n",
      "2 * 7  = 14\n",
      "2 * 8  = 16\n",
      "2 * 9  = 18\n",
      "2 * 10  = 20\n",
      "\n",
      "\n",
      "3 * 2  = 6\n",
      "3 * 3  = 9\n",
      "3 * 4  = 12\n",
      "3 * 5  = 15\n",
      "3 * 6  = 18\n",
      "3 * 7  = 21\n",
      "3 * 8  = 24\n",
      "3 * 9  = 27\n",
      "3 * 10  = 30\n",
      "\n",
      "\n",
      "4 * 2  = 8\n",
      "4 * 3  = 12\n",
      "4 * 4  = 16\n",
      "4 * 5  = 20\n",
      "4 * 6  = 24\n",
      "4 * 7  = 28\n",
      "4 * 8  = 32\n",
      "4 * 9  = 36\n",
      "4 * 10  = 40\n",
      "\n",
      "\n",
      "5 * 2  = 10\n",
      "5 * 3  = 15\n",
      "5 * 4  = 20\n",
      "5 * 5  = 25\n",
      "5 * 6  = 30\n",
      "5 * 7  = 35\n",
      "5 * 8  = 40\n",
      "5 * 9  = 45\n",
      "5 * 10  = 50\n"
     ]
    }
   ],
   "source": [
    "nums=[1,2,3,4,5]\n",
    "for num in nums:\n",
    "    print(\"\\n\")\n",
    "    for i in range(2,11):\n",
    "        print(num, \"*\", i,\" =\",num*i)"
   ]
  },
  {
   "cell_type": "code",
   "execution_count": 22,
   "id": "0b8715b4",
   "metadata": {},
   "outputs": [
    {
     "name": "stdout",
     "output_type": "stream",
     "text": [
      "Enter the number you want to print table:4\n",
      "\n",
      "\n",
      "4 * 2  = 8\n",
      "4 * 3  = 12\n",
      "4 * 4  = 16\n",
      "4 * 5  = 20\n",
      "4 * 6  = 24\n",
      "4 * 7  = 28\n",
      "4 * 8  = 32\n",
      "4 * 9  = 36\n",
      "4 * 10  = 40\n"
     ]
    }
   ],
   "source": [
    "\n",
    "nums=input(\"Enter the number you want to print table:\")\n",
    "for num in nums:\n",
    "    print(\"\\n\")\n",
    "    for i in range(2,11):\n",
    "        print(num, \"*\", i,\" =\",int(num)*i)"
   ]
  },
  {
   "cell_type": "code",
   "execution_count": null,
   "id": "e114b2df",
   "metadata": {},
   "outputs": [],
   "source": [
    "text=input(\"Write to count vowels\")\n",
    "for char in text:\n",
    "     t=text.count('a')\n",
    "print(text.count('a'))"
   ]
  },
  {
   "cell_type": "code",
   "execution_count": null,
   "id": "ce9d0673",
   "metadata": {},
   "outputs": [],
   "source": [
    "text=input(\"Write to count vowels:\")\n",
    "vowels=\"aeiouAEIOU\"\n",
    "vowel_count={}\n",
    "for vowel in vowels:\n",
    "    vowel_count[vowel]=text.count(vowel)\n",
    "vowel_count"
   ]
  },
  {
   "cell_type": "code",
   "execution_count": null,
   "id": "b73913b0",
   "metadata": {},
   "outputs": [],
   "source": [
    "winner=max(vowel_count,key=vowel_count.get)"
   ]
  },
  {
   "cell_type": "code",
   "execution_count": 17,
   "id": "103008dc",
   "metadata": {},
   "outputs": [],
   "source": [
    "def counts(text):\n",
    "    print(len(text.split(' ')))\n",
    "    print(len(text.split('.')))\n",
    "    print()\n"
   ]
  },
  {
   "cell_type": "code",
   "execution_count": 18,
   "id": "9f1a0051",
   "metadata": {},
   "outputs": [
    {
     "name": "stdout",
     "output_type": "stream",
     "text": [
      "2\n",
      "1\n",
      "\n"
     ]
    }
   ],
   "source": [
    "counts(\"hello hareem\")"
   ]
  },
  {
   "cell_type": "code",
   "execution_count": 24,
   "id": "50e4eb5e",
   "metadata": {},
   "outputs": [],
   "source": [
    "def cal():\n",
    "    a=int(input())\n",
    "    b=int(input())\n",
    "    opr=input()\n",
    "    if opr==\"*\":\n",
    "        print(a*b)"
   ]
  },
  {
   "cell_type": "code",
   "execution_count": 23,
   "id": "a50fae50",
   "metadata": {},
   "outputs": [
    {
     "ename": "NameError",
     "evalue": "name 'cal' is not defined",
     "output_type": "error",
     "traceback": [
      "\u001b[1;31m---------------------------------------------------------------------------\u001b[0m",
      "\u001b[1;31mNameError\u001b[0m                                 Traceback (most recent call last)",
      "Cell \u001b[1;32mIn[23], line 1\u001b[0m\n\u001b[1;32m----> 1\u001b[0m cal()\n",
      "\u001b[1;31mNameError\u001b[0m: name 'cal' is not defined"
     ]
    }
   ],
   "source": [
    "cal()"
   ]
  },
  {
   "cell_type": "code",
   "execution_count": null,
   "id": "6aa6a6bc",
   "metadata": {},
   "outputs": [],
   "source": []
  },
  {
   "cell_type": "code",
   "execution_count": null,
   "id": "b3d6c507",
   "metadata": {},
   "outputs": [],
   "source": []
  }
 ],
 "metadata": {
  "kernelspec": {
   "display_name": "Python 3 (ipykernel)",
   "language": "python",
   "name": "python3"
  },
  "language_info": {
   "codemirror_mode": {
    "name": "ipython",
    "version": 3
   },
   "file_extension": ".py",
   "mimetype": "text/x-python",
   "name": "python",
   "nbconvert_exporter": "python",
   "pygments_lexer": "ipython3",
   "version": "3.11.3"
  }
 },
 "nbformat": 4,
 "nbformat_minor": 5
}
