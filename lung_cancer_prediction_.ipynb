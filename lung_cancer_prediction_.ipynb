{
  "cells": [
    {
      "cell_type": "markdown",
      "metadata": {
        "id": "view-in-github",
        "colab_type": "text"
      },
      "source": [
        "<a href=\"https://colab.research.google.com/github/Hareem19/DataSciencePractice1/blob/main/lung_cancer_prediction_.ipynb\" target=\"_parent\"><img src=\"https://colab.research.google.com/assets/colab-badge.svg\" alt=\"Open In Colab\"/></a>"
      ]
    },
    {
      "cell_type": "code",
      "execution_count": 1,
      "metadata": {
        "colab": {
          "base_uri": "https://localhost:8080/"
        },
        "id": "6sRj7X0bDDcc",
        "outputId": "cd6ed497-4c42-44e3-9f00-8258b773e3c5"
      },
      "outputs": [
        {
          "output_type": "stream",
          "name": "stdout",
          "text": [
            "Mounted at /content/drive\n"
          ]
        }
      ],
      "source": [
        "from google.colab import drive\n",
        "drive.mount('/content/drive')"
      ]
    },
    {
      "cell_type": "markdown",
      "source": [
        "# New section"
      ],
      "metadata": {
        "id": "6zOvzTC02Z-u"
      }
    },
    {
      "cell_type": "code",
      "execution_count": 2,
      "metadata": {
        "id": "DcJMRn3ZElKQ"
      },
      "outputs": [],
      "source": [
        "import os\n",
        "import matplotlib.pyplot as plt"
      ]
    },
    {
      "cell_type": "code",
      "source": [
        "from tensorflow.keras.preprocessing.image import img_to_array\n"
      ],
      "metadata": {
        "id": "RuFDk0aO-Jaz"
      },
      "execution_count": 16,
      "outputs": []
    },
    {
      "cell_type": "code",
      "source": [
        "from keras import layers\n",
        "from keras import models"
      ],
      "metadata": {
        "id": "h9XOpzwI99wq"
      },
      "execution_count": 17,
      "outputs": []
    },
    {
      "cell_type": "code",
      "source": [
        "model = models.Sequential()\n",
        "model.add(layers.Conv2D(32, (3, 3), activation='relu',\n",
        "input_shape=(200, 200, 3))) #reducing size\n",
        "model.add(layers.MaxPooling2D((2, 2)))\n",
        "model.add(layers.Conv2D(64, (3, 3), activation='relu'))\n",
        "model.add(layers.MaxPooling2D((2, 2)))\n",
        "model.add(layers.Conv2D(128, (3, 3), activation='relu'))\n",
        "model.add(layers.MaxPooling2D((2, 2)))\n",
        "model.add(layers.Conv2D(128, (3, 3), activation='relu'))\n",
        "model.add(layers.MaxPooling2D((2, 2)))\n",
        "model.add(layers.Flatten())\n",
        "model.add(layers.Dense(512, activation='relu'))\n",
        "model.add(layers.Dense(1, activation='sigmoid'))\n",
        "model.summary()"
      ],
      "metadata": {
        "colab": {
          "base_uri": "https://localhost:8080/"
        },
        "id": "_JQLp-Nm-6xG",
        "outputId": "66bfb8e1-5d0a-47a6-a0aa-f8a161daa86d"
      },
      "execution_count": 18,
      "outputs": [
        {
          "output_type": "stream",
          "name": "stdout",
          "text": [
            "Model: \"sequential\"\n",
            "_________________________________________________________________\n",
            " Layer (type)                Output Shape              Param #   \n",
            "=================================================================\n",
            " conv2d (Conv2D)             (None, 198, 198, 32)      896       \n",
            "                                                                 \n",
            " max_pooling2d (MaxPooling2D  (None, 99, 99, 32)       0         \n",
            " )                                                               \n",
            "                                                                 \n",
            " conv2d_1 (Conv2D)           (None, 97, 97, 64)        18496     \n",
            "                                                                 \n",
            " max_pooling2d_1 (MaxPooling  (None, 48, 48, 64)       0         \n",
            " 2D)                                                             \n",
            "                                                                 \n",
            " conv2d_2 (Conv2D)           (None, 46, 46, 128)       73856     \n",
            "                                                                 \n",
            " max_pooling2d_2 (MaxPooling  (None, 23, 23, 128)      0         \n",
            " 2D)                                                             \n",
            "                                                                 \n",
            " conv2d_3 (Conv2D)           (None, 21, 21, 128)       147584    \n",
            "                                                                 \n",
            " max_pooling2d_3 (MaxPooling  (None, 10, 10, 128)      0         \n",
            " 2D)                                                             \n",
            "                                                                 \n",
            " flatten (Flatten)           (None, 12800)             0         \n",
            "                                                                 \n",
            " dense (Dense)               (None, 512)               6554112   \n",
            "                                                                 \n",
            " dense_1 (Dense)             (None, 1)                 513       \n",
            "                                                                 \n",
            "=================================================================\n",
            "Total params: 6,795,457\n",
            "Trainable params: 6,795,457\n",
            "Non-trainable params: 0\n",
            "_________________________________________________________________\n"
          ]
        }
      ]
    },
    {
      "cell_type": "code",
      "source": [
        "from keras import optimizers\n",
        "model.compile(loss='binary_crossentropy',optimizer=optimizers.RMSprop(lr=1e-4),metrics=['acc'])"
      ],
      "metadata": {
        "colab": {
          "base_uri": "https://localhost:8080/"
        },
        "id": "MurX_QEx_Lrd",
        "outputId": "7357311f-052f-4806-99d6-45141c9f6cb5"
      },
      "execution_count": 19,
      "outputs": [
        {
          "output_type": "stream",
          "name": "stderr",
          "text": [
            "/usr/local/lib/python3.10/dist-packages/keras/optimizers/legacy/rmsprop.py:143: UserWarning: The `lr` argument is deprecated, use `learning_rate` instead.\n",
            "  super().__init__(name, **kwargs)\n"
          ]
        }
      ]
    },
    {
      "cell_type": "code",
      "source": [
        "from keras.preprocessing.image import ImageDataGenerator\n",
        "train_datagen = ImageDataGenerator(rescale=1./255)\n",
        "test_datagen = ImageDataGenerator(rescale=1./255)"
      ],
      "metadata": {
        "id": "GVp3aAhhKGrs"
      },
      "execution_count": 20,
      "outputs": []
    },
    {
      "cell_type": "code",
      "source": [
        "train_generator = train_datagen.flow_from_directory(\"/content/drive/MyDrive/lungs/train\",target_size=(200,200),batch_size=20,class_mode='binary')\n",
        "#the term \"target size\"\n",
        "#typically refers to the desired dimensions or size of the input data that the model expects during training or inference."
      ],
      "metadata": {
        "colab": {
          "base_uri": "https://localhost:8080/"
        },
        "id": "JU36dt9FKHd6",
        "outputId": "87406748-91c8-4642-87ad-e31d58924311"
      },
      "execution_count": 23,
      "outputs": [
        {
          "output_type": "stream",
          "name": "stdout",
          "text": [
            "Found 374 images belonging to 2 classes.\n"
          ]
        }
      ]
    },
    {
      "cell_type": "code",
      "source": [
        "history = model.fit_generator(train_generator,steps_per_epoch=10,epochs=30)"
      ],
      "metadata": {
        "colab": {
          "base_uri": "https://localhost:8080/"
        },
        "id": "A7_EqVpZKHhL",
        "outputId": "5679e3e3-bf41-4b7e-c073-7f894086419c"
      },
      "execution_count": 25,
      "outputs": [
        {
          "output_type": "stream",
          "name": "stderr",
          "text": [
            "<ipython-input-25-7f02c26c009d>:1: UserWarning: `Model.fit_generator` is deprecated and will be removed in a future version. Please use `Model.fit`, which supports generators.\n",
            "  history = model.fit_generator(train_generator,steps_per_epoch=10,epochs=30)\n"
          ]
        },
        {
          "output_type": "stream",
          "name": "stdout",
          "text": [
            "Epoch 1/30\n",
            "10/10 [==============================] - 2s 208ms/step - loss: 0.6412 - acc: 0.6600\n",
            "Epoch 2/30\n",
            "10/10 [==============================] - 2s 212ms/step - loss: 0.5849 - acc: 0.7650\n",
            "Epoch 3/30\n",
            "10/10 [==============================] - 2s 193ms/step - loss: 0.5097 - acc: 0.8247\n",
            "Epoch 4/30\n",
            "10/10 [==============================] - 2s 204ms/step - loss: 0.4845 - acc: 0.7900\n",
            "Epoch 5/30\n",
            "10/10 [==============================] - 3s 275ms/step - loss: 0.4203 - acc: 0.8041\n",
            "Epoch 6/30\n",
            "10/10 [==============================] - 2s 218ms/step - loss: 0.3811 - acc: 0.8299\n",
            "Epoch 7/30\n",
            "10/10 [==============================] - 2s 190ms/step - loss: 0.3744 - acc: 0.8557\n",
            "Epoch 8/30\n",
            "10/10 [==============================] - 3s 284ms/step - loss: 0.3247 - acc: 0.8814\n",
            "Epoch 9/30\n",
            "10/10 [==============================] - 3s 263ms/step - loss: 0.2922 - acc: 0.8763\n",
            "Epoch 10/30\n",
            "10/10 [==============================] - 2s 182ms/step - loss: 0.2619 - acc: 0.9124\n",
            "Epoch 11/30\n",
            "10/10 [==============================] - 2s 183ms/step - loss: 0.2800 - acc: 0.8814\n",
            "Epoch 12/30\n",
            "10/10 [==============================] - 2s 199ms/step - loss: 0.2581 - acc: 0.9000\n",
            "Epoch 13/30\n",
            "10/10 [==============================] - 2s 190ms/step - loss: 0.2219 - acc: 0.8814\n",
            "Epoch 14/30\n",
            "10/10 [==============================] - 3s 304ms/step - loss: 0.2413 - acc: 0.9050\n",
            "Epoch 15/30\n",
            "10/10 [==============================] - 2s 207ms/step - loss: 0.2603 - acc: 0.8866\n",
            "Epoch 16/30\n",
            "10/10 [==============================] - 2s 196ms/step - loss: 0.1980 - acc: 0.9200\n",
            "Epoch 17/30\n",
            "10/10 [==============================] - 2s 194ms/step - loss: 0.2333 - acc: 0.9124\n",
            "Epoch 18/30\n",
            "10/10 [==============================] - 2s 195ms/step - loss: 0.2204 - acc: 0.9124\n",
            "Epoch 19/30\n",
            "10/10 [==============================] - 2s 219ms/step - loss: 0.2462 - acc: 0.8918\n",
            "Epoch 20/30\n",
            "10/10 [==============================] - 3s 284ms/step - loss: 0.1964 - acc: 0.9175\n",
            "Epoch 21/30\n",
            "10/10 [==============================] - 2s 199ms/step - loss: 0.2207 - acc: 0.9100\n",
            "Epoch 22/30\n",
            "10/10 [==============================] - 2s 187ms/step - loss: 0.1871 - acc: 0.9227\n",
            "Epoch 23/30\n",
            "10/10 [==============================] - 2s 177ms/step - loss: 0.1607 - acc: 0.9536\n",
            "Epoch 24/30\n",
            "10/10 [==============================] - 3s 266ms/step - loss: 0.1480 - acc: 0.9350\n",
            "Epoch 25/30\n",
            "10/10 [==============================] - 3s 246ms/step - loss: 0.2209 - acc: 0.9050\n",
            "Epoch 26/30\n",
            "10/10 [==============================] - 2s 189ms/step - loss: 0.1627 - acc: 0.9381\n",
            "Epoch 27/30\n",
            "10/10 [==============================] - 2s 188ms/step - loss: 0.1581 - acc: 0.9450\n",
            "Epoch 28/30\n",
            "10/10 [==============================] - 2s 189ms/step - loss: 0.1733 - acc: 0.9278\n",
            "Epoch 29/30\n",
            "10/10 [==============================] - 2s 190ms/step - loss: 0.1674 - acc: 0.9588\n",
            "Epoch 30/30\n",
            "10/10 [==============================] - 3s 281ms/step - loss: 0.1497 - acc: 0.9450\n"
          ]
        }
      ]
    },
    {
      "cell_type": "code",
      "source": [
        "model.save('lung_cancer_detection')"
      ],
      "metadata": {
        "id": "Fijk4YSJX2uE",
        "outputId": "08e2946a-66d4-42fe-b1ec-e4595a2abd5d",
        "colab": {
          "base_uri": "https://localhost:8080/"
        }
      },
      "execution_count": 29,
      "outputs": [
        {
          "output_type": "stream",
          "name": "stderr",
          "text": [
            "WARNING:absl:Found untraced functions such as _jit_compiled_convolution_op, _jit_compiled_convolution_op, _jit_compiled_convolution_op, _jit_compiled_convolution_op while saving (showing 4 of 4). These functions will not be directly callable after loading.\n"
          ]
        }
      ]
    },
    {
      "cell_type": "code",
      "source": [
        "test_gen=test_datagen.flow_from_directory('/content/drive/MyDrive/lungs/test',target_size=(200,200),batch_size=20,class_mode='binary')"
      ],
      "metadata": {
        "id": "cKkdz1n9S7T1",
        "outputId": "a999f1ad-baba-485b-ff0a-530147c8ed52",
        "colab": {
          "base_uri": "https://localhost:8080/"
        }
      },
      "execution_count": 34,
      "outputs": [
        {
          "output_type": "stream",
          "name": "stdout",
          "text": [
            "Found 160 images belonging to 2 classes.\n"
          ]
        }
      ]
    },
    {
      "cell_type": "code",
      "source": [
        "y_test=model.evaluate(test_gen)\n"
      ],
      "metadata": {
        "colab": {
          "base_uri": "https://localhost:8080/"
        },
        "id": "WO8-QC_iS7aO",
        "outputId": "86531039-ba83-4850-db3d-802bc74df914"
      },
      "execution_count": 35,
      "outputs": [
        {
          "output_type": "stream",
          "name": "stdout",
          "text": [
            "8/8 [==============================] - 77s 4s/step - loss: 0.2982 - acc: 0.8938\n"
          ]
        }
      ]
    },
    {
      "cell_type": "code",
      "source": [
        "y_pred=model.predict(test_gen)"
      ],
      "metadata": {
        "colab": {
          "base_uri": "https://localhost:8080/"
        },
        "id": "zyPadCD7ZWJ3",
        "outputId": "2bca6212-8f1c-45d6-97be-569cb17421cd"
      },
      "execution_count": 37,
      "outputs": [
        {
          "output_type": "stream",
          "name": "stdout",
          "text": [
            "8/8 [==============================] - 2s 172ms/step\n"
          ]
        }
      ]
    },
    {
      "cell_type": "code",
      "source": [
        "from sklearn.metrics import classification_report, confusion_matrix\n",
        "import matplotlib.pyplot as plt\n",
        "import seaborn as sns\n"
      ],
      "metadata": {
        "id": "PY04HZseZzH0"
      },
      "execution_count": 38,
      "outputs": []
    },
    {
      "cell_type": "code",
      "source": [
        "# # Generate a classification report\n",
        "# report = classification_report(y_test, y_pred)\n",
        "\n",
        "# # Print the classification report\n",
        "# print(\"Classification Report:\\n\", report)\n"
      ],
      "metadata": {
        "colab": {
          "base_uri": "https://localhost:8080/",
          "height": 390
        },
        "id": "X5nSm0pWaNvE",
        "outputId": "5bf64673-090e-48ee-e858-0aa213ebab4b"
      },
      "execution_count": 40,
      "outputs": [
        {
          "output_type": "error",
          "ename": "ValueError",
          "evalue": "ignored",
          "traceback": [
            "\u001b[0;31m---------------------------------------------------------------------------\u001b[0m",
            "\u001b[0;31mValueError\u001b[0m                                Traceback (most recent call last)",
            "\u001b[0;32m<ipython-input-40-51f2fb3bc5e3>\u001b[0m in \u001b[0;36m<cell line: 2>\u001b[0;34m()\u001b[0m\n\u001b[1;32m      1\u001b[0m \u001b[0;31m# Generate a classification report\u001b[0m\u001b[0;34m\u001b[0m\u001b[0;34m\u001b[0m\u001b[0m\n\u001b[0;32m----> 2\u001b[0;31m \u001b[0mreport\u001b[0m \u001b[0;34m=\u001b[0m \u001b[0mclassification_report\u001b[0m\u001b[0;34m(\u001b[0m\u001b[0my_test\u001b[0m\u001b[0;34m,\u001b[0m \u001b[0my_pred\u001b[0m\u001b[0;34m)\u001b[0m\u001b[0;34m\u001b[0m\u001b[0;34m\u001b[0m\u001b[0m\n\u001b[0m\u001b[1;32m      3\u001b[0m \u001b[0;34m\u001b[0m\u001b[0m\n\u001b[1;32m      4\u001b[0m \u001b[0;31m# Print the classification report\u001b[0m\u001b[0;34m\u001b[0m\u001b[0;34m\u001b[0m\u001b[0m\n\u001b[1;32m      5\u001b[0m \u001b[0mprint\u001b[0m\u001b[0;34m(\u001b[0m\u001b[0;34m\"Classification Report:\\n\"\u001b[0m\u001b[0;34m,\u001b[0m \u001b[0mreport\u001b[0m\u001b[0;34m)\u001b[0m\u001b[0;34m\u001b[0m\u001b[0;34m\u001b[0m\u001b[0m\n",
            "\u001b[0;32m/usr/local/lib/python3.10/dist-packages/sklearn/metrics/_classification.py\u001b[0m in \u001b[0;36mclassification_report\u001b[0;34m(y_true, y_pred, labels, target_names, sample_weight, digits, output_dict, zero_division)\u001b[0m\n\u001b[1;32m   2308\u001b[0m     \"\"\"\n\u001b[1;32m   2309\u001b[0m \u001b[0;34m\u001b[0m\u001b[0m\n\u001b[0;32m-> 2310\u001b[0;31m     \u001b[0my_type\u001b[0m\u001b[0;34m,\u001b[0m \u001b[0my_true\u001b[0m\u001b[0;34m,\u001b[0m \u001b[0my_pred\u001b[0m \u001b[0;34m=\u001b[0m \u001b[0m_check_targets\u001b[0m\u001b[0;34m(\u001b[0m\u001b[0my_true\u001b[0m\u001b[0;34m,\u001b[0m \u001b[0my_pred\u001b[0m\u001b[0;34m)\u001b[0m\u001b[0;34m\u001b[0m\u001b[0;34m\u001b[0m\u001b[0m\n\u001b[0m\u001b[1;32m   2311\u001b[0m \u001b[0;34m\u001b[0m\u001b[0m\n\u001b[1;32m   2312\u001b[0m     \u001b[0;32mif\u001b[0m \u001b[0mlabels\u001b[0m \u001b[0;32mis\u001b[0m \u001b[0;32mNone\u001b[0m\u001b[0;34m:\u001b[0m\u001b[0;34m\u001b[0m\u001b[0;34m\u001b[0m\u001b[0m\n",
            "\u001b[0;32m/usr/local/lib/python3.10/dist-packages/sklearn/metrics/_classification.py\u001b[0m in \u001b[0;36m_check_targets\u001b[0;34m(y_true, y_pred)\u001b[0m\n\u001b[1;32m     84\u001b[0m     \u001b[0my_pred\u001b[0m \u001b[0;34m:\u001b[0m \u001b[0marray\u001b[0m \u001b[0;32mor\u001b[0m \u001b[0mindicator\u001b[0m \u001b[0mmatrix\u001b[0m\u001b[0;34m\u001b[0m\u001b[0;34m\u001b[0m\u001b[0m\n\u001b[1;32m     85\u001b[0m     \"\"\"\n\u001b[0;32m---> 86\u001b[0;31m     \u001b[0mcheck_consistent_length\u001b[0m\u001b[0;34m(\u001b[0m\u001b[0my_true\u001b[0m\u001b[0;34m,\u001b[0m \u001b[0my_pred\u001b[0m\u001b[0;34m)\u001b[0m\u001b[0;34m\u001b[0m\u001b[0;34m\u001b[0m\u001b[0m\n\u001b[0m\u001b[1;32m     87\u001b[0m     \u001b[0mtype_true\u001b[0m \u001b[0;34m=\u001b[0m \u001b[0mtype_of_target\u001b[0m\u001b[0;34m(\u001b[0m\u001b[0my_true\u001b[0m\u001b[0;34m,\u001b[0m \u001b[0minput_name\u001b[0m\u001b[0;34m=\u001b[0m\u001b[0;34m\"y_true\"\u001b[0m\u001b[0;34m)\u001b[0m\u001b[0;34m\u001b[0m\u001b[0;34m\u001b[0m\u001b[0m\n\u001b[1;32m     88\u001b[0m     \u001b[0mtype_pred\u001b[0m \u001b[0;34m=\u001b[0m \u001b[0mtype_of_target\u001b[0m\u001b[0;34m(\u001b[0m\u001b[0my_pred\u001b[0m\u001b[0;34m,\u001b[0m \u001b[0minput_name\u001b[0m\u001b[0;34m=\u001b[0m\u001b[0;34m\"y_pred\"\u001b[0m\u001b[0;34m)\u001b[0m\u001b[0;34m\u001b[0m\u001b[0;34m\u001b[0m\u001b[0m\n",
            "\u001b[0;32m/usr/local/lib/python3.10/dist-packages/sklearn/utils/validation.py\u001b[0m in \u001b[0;36mcheck_consistent_length\u001b[0;34m(*arrays)\u001b[0m\n\u001b[1;32m    395\u001b[0m     \u001b[0muniques\u001b[0m \u001b[0;34m=\u001b[0m \u001b[0mnp\u001b[0m\u001b[0;34m.\u001b[0m\u001b[0munique\u001b[0m\u001b[0;34m(\u001b[0m\u001b[0mlengths\u001b[0m\u001b[0;34m)\u001b[0m\u001b[0;34m\u001b[0m\u001b[0;34m\u001b[0m\u001b[0m\n\u001b[1;32m    396\u001b[0m     \u001b[0;32mif\u001b[0m \u001b[0mlen\u001b[0m\u001b[0;34m(\u001b[0m\u001b[0muniques\u001b[0m\u001b[0;34m)\u001b[0m \u001b[0;34m>\u001b[0m \u001b[0;36m1\u001b[0m\u001b[0;34m:\u001b[0m\u001b[0;34m\u001b[0m\u001b[0;34m\u001b[0m\u001b[0m\n\u001b[0;32m--> 397\u001b[0;31m         raise ValueError(\n\u001b[0m\u001b[1;32m    398\u001b[0m             \u001b[0;34m\"Found input variables with inconsistent numbers of samples: %r\"\u001b[0m\u001b[0;34m\u001b[0m\u001b[0;34m\u001b[0m\u001b[0m\n\u001b[1;32m    399\u001b[0m             \u001b[0;34m%\u001b[0m \u001b[0;34m[\u001b[0m\u001b[0mint\u001b[0m\u001b[0;34m(\u001b[0m\u001b[0ml\u001b[0m\u001b[0;34m)\u001b[0m \u001b[0;32mfor\u001b[0m \u001b[0ml\u001b[0m \u001b[0;32min\u001b[0m \u001b[0mlengths\u001b[0m\u001b[0;34m]\u001b[0m\u001b[0;34m\u001b[0m\u001b[0;34m\u001b[0m\u001b[0m\n",
            "\u001b[0;31mValueError\u001b[0m: Found input variables with inconsistent numbers of samples: [2, 160]"
          ]
        }
      ]
    },
    {
      "cell_type": "code",
      "source": [
        "# Assuming you have a test generator named test_gen\n",
        "true_labels = test_gen.classes\n",
        "\n",
        "# Generate predictions using the test generator\n",
        "y_pred = model.predict_generator(test_gen)\n",
        "\n",
        "# Generate a classification report\n",
        "report = classification_report(true_labels, (y_pred > 0.5).astype(int))  # Assuming binary classification\n",
        "\n",
        "# Print the classification report\n",
        "print(\"Classification Report:\\n\", report)\n"
      ],
      "metadata": {
        "id": "SZg96iSEbEhk",
        "outputId": "82b67842-7682-4815-dde4-62b1b95fe2cc",
        "colab": {
          "base_uri": "https://localhost:8080/"
        }
      },
      "execution_count": 42,
      "outputs": [
        {
          "output_type": "stream",
          "name": "stderr",
          "text": [
            "<ipython-input-42-9e2debb937a3>:5: UserWarning: `Model.predict_generator` is deprecated and will be removed in a future version. Please use `Model.predict`, which supports generators.\n",
            "  y_pred = model.predict_generator(test_gen)\n"
          ]
        },
        {
          "output_type": "stream",
          "name": "stdout",
          "text": [
            "Classification Report:\n",
            "               precision    recall  f1-score   support\n",
            "\n",
            "           0       0.54      0.59      0.56        90\n",
            "           1       0.39      0.34      0.37        70\n",
            "\n",
            "    accuracy                           0.48       160\n",
            "   macro avg       0.46      0.47      0.46       160\n",
            "weighted avg       0.47      0.48      0.48       160\n",
            "\n"
          ]
        }
      ]
    },
    {
      "cell_type": "code",
      "source": [
        "y_pred"
      ],
      "metadata": {
        "id": "r8KVr3RZhMD7",
        "outputId": "e1b908d2-dbb0-4b5e-cc2e-6206f69235ac",
        "colab": {
          "base_uri": "https://localhost:8080/"
        }
      },
      "execution_count": 44,
      "outputs": [
        {
          "output_type": "execute_result",
          "data": {
            "text/plain": [
              "array([[9.9405307e-01],\n",
              "       [5.1053148e-02],\n",
              "       [7.0033181e-03],\n",
              "       [9.2607319e-01],\n",
              "       [4.3731582e-01],\n",
              "       [9.5293653e-01],\n",
              "       [3.1549251e-01],\n",
              "       [1.4837952e-03],\n",
              "       [1.9310988e-03],\n",
              "       [3.0931721e-03],\n",
              "       [7.6761764e-01],\n",
              "       [9.8437065e-01],\n",
              "       [8.2975763e-01],\n",
              "       [9.6836430e-01],\n",
              "       [1.4924563e-03],\n",
              "       [1.5052233e-02],\n",
              "       [2.8315678e-04],\n",
              "       [3.5382363e-01],\n",
              "       [4.2345017e-04],\n",
              "       [3.9306104e-02],\n",
              "       [7.8521460e-01],\n",
              "       [4.0103701e-01],\n",
              "       [9.8093569e-01],\n",
              "       [3.5606222e-03],\n",
              "       [9.5560116e-01],\n",
              "       [9.5598787e-01],\n",
              "       [2.5949992e-02],\n",
              "       [2.3737042e-01],\n",
              "       [9.7406149e-01],\n",
              "       [8.4178545e-02],\n",
              "       [7.3457584e-02],\n",
              "       [3.6647702e-03],\n",
              "       [7.8202011e-03],\n",
              "       [3.9346766e-01],\n",
              "       [3.1265646e-01],\n",
              "       [9.2609447e-01],\n",
              "       [2.2027861e-02],\n",
              "       [2.7958781e-01],\n",
              "       [2.8979818e-03],\n",
              "       [8.5703564e-01],\n",
              "       [1.0211210e-01],\n",
              "       [9.5948228e-04],\n",
              "       [9.2148193e-04],\n",
              "       [2.9290221e-03],\n",
              "       [4.5838827e-01],\n",
              "       [5.3775716e-01],\n",
              "       [5.1112812e-02],\n",
              "       [8.2838750e-01],\n",
              "       [5.2883488e-01],\n",
              "       [8.6742967e-01],\n",
              "       [1.2691415e-02],\n",
              "       [9.9139225e-01],\n",
              "       [8.0997804e-03],\n",
              "       [1.7407467e-03],\n",
              "       [5.0444353e-01],\n",
              "       [3.0878505e-02],\n",
              "       [3.4693019e-03],\n",
              "       [3.2556005e-02],\n",
              "       [3.6576167e-01],\n",
              "       [8.8734442e-01],\n",
              "       [2.1113576e-01],\n",
              "       [8.6033314e-01],\n",
              "       [2.0064685e-01],\n",
              "       [2.1334877e-03],\n",
              "       [9.9935859e-01],\n",
              "       [1.2542594e-02],\n",
              "       [4.6306825e-01],\n",
              "       [8.7547207e-01],\n",
              "       [4.4306301e-02],\n",
              "       [1.0957390e-01],\n",
              "       [1.4846551e-01],\n",
              "       [8.0079585e-01],\n",
              "       [5.5258614e-01],\n",
              "       [9.8885578e-01],\n",
              "       [9.4807386e-01],\n",
              "       [9.1410436e-02],\n",
              "       [6.6515356e-01],\n",
              "       [7.4909997e-01],\n",
              "       [2.2565614e-01],\n",
              "       [6.6560620e-01],\n",
              "       [8.5473502e-01],\n",
              "       [5.6167889e-02],\n",
              "       [9.2848164e-01],\n",
              "       [6.5064383e-01],\n",
              "       [1.4458042e-01],\n",
              "       [9.9899000e-01],\n",
              "       [9.9633861e-01],\n",
              "       [3.0583130e-02],\n",
              "       [9.4080079e-01],\n",
              "       [1.7056574e-01],\n",
              "       [9.8115188e-01],\n",
              "       [5.5459708e-01],\n",
              "       [4.1324880e-02],\n",
              "       [2.3028499e-01],\n",
              "       [9.7898126e-04],\n",
              "       [9.9598747e-01],\n",
              "       [5.5603850e-01],\n",
              "       [2.5568777e-03],\n",
              "       [9.8855877e-01],\n",
              "       [2.5456078e-02],\n",
              "       [1.2130268e-03],\n",
              "       [1.4436667e-01],\n",
              "       [5.0160933e-01],\n",
              "       [1.0416831e-03],\n",
              "       [2.0333716e-01],\n",
              "       [7.6625901e-01],\n",
              "       [5.1966810e-04],\n",
              "       [1.4850325e-02],\n",
              "       [1.7460543e-04],\n",
              "       [4.7700739e-04],\n",
              "       [5.7649773e-01],\n",
              "       [1.6831525e-02],\n",
              "       [3.7514821e-03],\n",
              "       [2.0376164e-03],\n",
              "       [6.8389979e-04],\n",
              "       [8.4473830e-01],\n",
              "       [3.2425562e-01],\n",
              "       [7.7210575e-01],\n",
              "       [4.1132814e-01],\n",
              "       [6.6980310e-02],\n",
              "       [4.1295967e-01],\n",
              "       [4.9423054e-03],\n",
              "       [8.4178545e-02],\n",
              "       [3.7957096e-05],\n",
              "       [9.8474509e-01],\n",
              "       [8.1461501e-01],\n",
              "       [1.6519738e-02],\n",
              "       [4.8481189e-03],\n",
              "       [7.4619043e-01],\n",
              "       [8.9626829e-04],\n",
              "       [8.6564714e-01],\n",
              "       [4.6701412e-04],\n",
              "       [2.1169339e-03],\n",
              "       [9.7695696e-01],\n",
              "       [2.3825013e-03],\n",
              "       [7.0720500e-01],\n",
              "       [4.5105228e-03],\n",
              "       [9.2144239e-01],\n",
              "       [1.8961342e-04],\n",
              "       [8.9723855e-01],\n",
              "       [9.2893913e-03],\n",
              "       [1.0440662e-01],\n",
              "       [1.9890834e-02],\n",
              "       [9.3088615e-01],\n",
              "       [1.8418305e-02],\n",
              "       [5.7139915e-01],\n",
              "       [5.2629383e-03],\n",
              "       [9.4804140e-03],\n",
              "       [1.9718944e-01],\n",
              "       [1.5541884e-01],\n",
              "       [8.8468069e-01],\n",
              "       [3.9167449e-02],\n",
              "       [1.0771998e-01],\n",
              "       [9.6307154e-04],\n",
              "       [9.5299965e-01],\n",
              "       [6.1788392e-01],\n",
              "       [7.2487794e-02],\n",
              "       [1.2359401e-01],\n",
              "       [1.4396706e-02],\n",
              "       [9.1464949e-01]], dtype=float32)"
            ]
          },
          "metadata": {},
          "execution_count": 44
        }
      ]
    },
    {
      "cell_type": "code",
      "source": [
        "from sklearn.metrics import confusion_matrix\n",
        "import matplotlib.pyplot as plt\n",
        "import seaborn as sns\n",
        "\n",
        "# Assuming you have true labels and predicted probabilities\n",
        "# true_labels = test_gen.classes  # If not defined earlier, use the appropriate source for true labels\n",
        "\n",
        "# Threshold the predicted probabilities to get class labels (0 or 1)\n",
        "y_pred_binary = (y_pred > 0.5).astype(int)\n",
        "\n",
        "# Generate a confusion matrix\n",
        "cm = confusion_matrix(true_labels, y_pred_binary)\n",
        "\n",
        "# Plot the confusion matrix as a heatmap\n",
        "plt.figure(figsize=(8, 6))\n",
        "sns.heatmap(cm, annot=True, fmt=\"d\", cmap=\"Blues\", cbar=False,\n",
        "            xticklabels=[\"Predicted 0\", \"Predicted 1\"],\n",
        "            yticklabels=[\"Actual 0\", \"Actual 1\"])\n",
        "plt.xlabel(\"Predicted\")\n",
        "plt.ylabel(\"Actual\")\n",
        "plt.title(\"Confusion Matrix\")\n",
        "plt.show()\n"
      ],
      "metadata": {
        "id": "-oeH1sp4bFsT",
        "outputId": "f9bce02d-2383-4e91-98b1-10d9cd10c450",
        "colab": {
          "base_uri": "https://localhost:8080/",
          "height": 564
        }
      },
      "execution_count": 43,
      "outputs": [
        {
          "output_type": "display_data",
          "data": {
            "text/plain": [
              "<Figure size 800x600 with 1 Axes>"
            ],
            "image/png": "[encoded data removed]"
          },
          "metadata": {}
        }
      ]
    },
    {
      "cell_type": "code",
      "source": [
        "# train_datagen = ImageDataGenerator( rescale=1./255,\n",
        "#                                     rotation_range=40,\n",
        "#                                     width_shift_range=0.2,\n",
        "#                                     height_shift_range=0.2,\n",
        "#                                     shear_range=0.2,\n",
        "#                                     zoom_range=0.2,\n",
        "#                                     horizontal_flip=True,)\n",
        "# test_datagen = ImageDataGenerator(rescale=1./255)\n",
        "# train_generator = train_datagen.flow_from_directory(train_dir,\n",
        "#                                                     target_size=(200, 200),\n",
        "#                                                     batch_size=32,\n",
        "#                                                     class_mode='binary')\n",
        "# history = model.fit_generator(train_generator,\n",
        "#                             steps_per_epoch=100,\n",
        "#                             epochs=100)"
      ],
      "metadata": {
        "id": "qaJqi6AzLxxz"
      },
      "execution_count": 26,
      "outputs": []
    },
    {
      "cell_type": "code",
      "source": [],
      "metadata": {
        "id": "fjNSngD5NslU"
      },
      "execution_count": null,
      "outputs": []
    }
  ],
  "metadata": {
    "accelerator": "GPU",
    "colab": {
      "provenance": [],
      "include_colab_link": true
    },
    "kernelspec": {
      "display_name": "Python 3",
      "name": "python3"
    },
    "language_info": {
      "name": "python"
    }
  },
  "nbformat": 4,
  "nbformat_minor": 0
}