{
 "cells": [
  {
   "cell_type": "code",
   "execution_count": 1,
   "id": "3549ef4c",
   "metadata": {},
   "outputs": [],
   "source": [
    "import numpy as np"
   ]
  },
  {
   "cell_type": "code",
   "execution_count": 2,
   "id": "4198ace8",
   "metadata": {},
   "outputs": [],
   "source": [
    "lst=[[0,1,2,3,4,5,6,7,8],\n",
    "     [9,10,11,12,13,14,15,16,17],\n",
    "    [18,19,20,21,22,23,24,25,26],\n",
    "    [27,28,29,30,31,32,33,34,35]]"
   ]
  },
  {
   "cell_type": "code",
   "execution_count": 3,
   "id": "515806ca",
   "metadata": {},
   "outputs": [
    {
     "name": "stdout",
     "output_type": "stream",
     "text": [
      "<class 'list'>\n"
     ]
    }
   ],
   "source": [
    "print(type(lst))"
   ]
  },
  {
   "cell_type": "code",
   "execution_count": 4,
   "id": "afa8eb3f",
   "metadata": {},
   "outputs": [],
   "source": [
    "arr=np.array(lst)"
   ]
  },
  {
   "cell_type": "code",
   "execution_count": 5,
   "id": "838b53fc",
   "metadata": {},
   "outputs": [
    {
     "data": {
      "text/plain": [
       "numpy.ndarray"
      ]
     },
     "execution_count": 5,
     "metadata": {},
     "output_type": "execute_result"
    }
   ],
   "source": [
    "type(arr)"
   ]
  },
  {
   "cell_type": "code",
   "execution_count": 6,
   "id": "0a49dcd7",
   "metadata": {},
   "outputs": [
    {
     "data": {
      "text/plain": [
       "array([[ 0,  1,  2,  3,  4,  5,  6,  7,  8],\n",
       "       [ 9, 10, 11, 12, 13, 14, 15, 16, 17],\n",
       "       [18, 19, 20, 21, 22, 23, 24, 25, 26],\n",
       "       [27, 28, 29, 30, 31, 32, 33, 34, 35]])"
      ]
     },
     "execution_count": 6,
     "metadata": {},
     "output_type": "execute_result"
    }
   ],
   "source": [
    "arr[:,:]"
   ]
  },
  {
   "cell_type": "code",
   "execution_count": 7,
   "id": "cd794067",
   "metadata": {},
   "outputs": [
    {
     "data": {
      "text/plain": [
       "array([[ 0,  1,  2,  3,  4,  5,  6,  7,  8],\n",
       "       [ 9, 10, 11, 12, 13, 14, 15, 16, 17],\n",
       "       [18, 19, 20, 21, 22, 23, 24, 25, 26],\n",
       "       [27, 28, 29, 30, 31, 32, 33, 34, 35]])"
      ]
     },
     "execution_count": 7,
     "metadata": {},
     "output_type": "execute_result"
    }
   ],
   "source": [
    "arr"
   ]
  },
  {
   "cell_type": "code",
   "execution_count": 8,
   "id": "cbba218f",
   "metadata": {},
   "outputs": [],
   "source": [
    "arr3=np.random.rand(3,4)"
   ]
  },
  {
   "cell_type": "code",
   "execution_count": 9,
   "id": "98804c25",
   "metadata": {},
   "outputs": [
    {
     "data": {
      "text/plain": [
       "array([[0.03994081, 0.06937196, 0.18260127, 0.5494977 ],\n",
       "       [0.10844197, 0.83881625, 0.52887034, 0.63516094],\n",
       "       [0.13859516, 0.79002064, 0.00101857, 0.24129051]])"
      ]
     },
     "execution_count": 9,
     "metadata": {},
     "output_type": "execute_result"
    }
   ],
   "source": [
    "arr3"
   ]
  },
  {
   "cell_type": "code",
   "execution_count": 10,
   "id": "78270af0",
   "metadata": {},
   "outputs": [
    {
     "data": {
      "text/plain": [
       "array([[ 1,  2,  3,  0],\n",
       "       [10, 11, 12,  9],\n",
       "       [19, 20, 21, 18],\n",
       "       [28, 29, 30, 27]])"
      ]
     },
     "execution_count": 10,
     "metadata": {},
     "output_type": "execute_result"
    }
   ],
   "source": [
    "arr[:,[1,2,3,0]]"
   ]
  },
  {
   "cell_type": "markdown",
   "id": "1ac7ad41",
   "metadata": {},
   "source": [
    "### "
   ]
  },
  {
   "cell_type": "raw",
   "id": "81568851",
   "metadata": {},
   "source": []
  },
  {
   "cell_type": "raw",
   "id": "ed40e5c2",
   "metadata": {},
   "source": [
    "arr+arr3"
   ]
  },
  {
   "cell_type": "code",
   "execution_count": 11,
   "id": "6288d584",
   "metadata": {},
   "outputs": [
    {
     "data": {
      "text/plain": [
       "array([[0.07988162, 0.13874393, 0.36520254, 1.09899539],\n",
       "       [0.21688394, 1.6776325 , 1.05774068, 1.27032189],\n",
       "       [0.27719032, 1.58004127, 0.00203715, 0.48258102]])"
      ]
     },
     "execution_count": 11,
     "metadata": {},
     "output_type": "execute_result"
    }
   ],
   "source": [
    "arr3+arr3"
   ]
  },
  {
   "cell_type": "code",
   "execution_count": 12,
   "id": "ba7862b2",
   "metadata": {},
   "outputs": [
    {
     "data": {
      "text/plain": [
       "array([[1.59526822e-03, 4.81246923e-03, 3.33432244e-02, 3.01947718e-01],\n",
       "       [1.17596604e-02, 7.03612699e-01, 2.79703835e-01, 4.03429423e-01],\n",
       "       [1.92086188e-02, 6.24132605e-01, 1.03749379e-06, 5.82211100e-02]])"
      ]
     },
     "execution_count": 12,
     "metadata": {},
     "output_type": "execute_result"
    }
   ],
   "source": [
    "arr3*arr3"
   ]
  },
  {
   "cell_type": "code",
   "execution_count": 13,
   "id": "bf2005e7",
   "metadata": {},
   "outputs": [
    {
     "data": {
      "text/plain": [
       "array([ 2, 25])"
      ]
     },
     "execution_count": 13,
     "metadata": {},
     "output_type": "execute_result"
    }
   ],
   "source": [
    "arr[[0,2],[2,7]]"
   ]
  },
  {
   "cell_type": "code",
   "execution_count": 14,
   "id": "9d61ed9c",
   "metadata": {},
   "outputs": [
    {
     "data": {
      "text/plain": [
       "array([[ 0,  3,  6],\n",
       "       [ 9, 12, 15],\n",
       "       [18, 21, 24],\n",
       "       [27, 30, 33]])"
      ]
     },
     "execution_count": 14,
     "metadata": {},
     "output_type": "execute_result"
    }
   ],
   "source": [
    "arr[:,::3]"
   ]
  },
  {
   "cell_type": "code",
   "execution_count": 15,
   "id": "6748c937",
   "metadata": {},
   "outputs": [],
   "source": [
    "a=np.arange(15).reshape(5,3)"
   ]
  },
  {
   "cell_type": "raw",
   "id": "f60f7c93",
   "metadata": {},
   "source": [
    "np.arrange(6).reshape(2,3)"
   ]
  },
  {
   "cell_type": "code",
   "execution_count": 16,
   "id": "58bfcad4",
   "metadata": {},
   "outputs": [],
   "source": [
    "b=np.arange(10).reshape(2,5)"
   ]
  },
  {
   "cell_type": "code",
   "execution_count": 17,
   "id": "d7dd8287",
   "metadata": {},
   "outputs": [
    {
     "data": {
      "text/plain": [
       "array([[ 90, 100, 110],\n",
       "       [240, 275, 310]])"
      ]
     },
     "execution_count": 17,
     "metadata": {},
     "output_type": "execute_result"
    }
   ],
   "source": [
    "b@a"
   ]
  },
  {
   "cell_type": "code",
   "execution_count": 18,
   "id": "a51d0e9d",
   "metadata": {},
   "outputs": [
    {
     "ename": "ValueError",
     "evalue": "matmul: Input operand 1 has a mismatch in its core dimension 0, with gufunc signature (n?,k),(k,m?)->(n?,m?) (size 2 is different from 3)",
     "output_type": "error",
     "traceback": [
      "\u001b[1;31m---------------------------------------------------------------------------\u001b[0m",
      "\u001b[1;31mValueError\u001b[0m                                Traceback (most recent call last)",
      "Cell \u001b[1;32mIn[18], line 1\u001b[0m\n\u001b[1;32m----> 1\u001b[0m a\u001b[38;5;129m@b\u001b[39m\n",
      "\u001b[1;31mValueError\u001b[0m: matmul: Input operand 1 has a mismatch in its core dimension 0, with gufunc signature (n?,k),(k,m?)->(n?,m?) (size 2 is different from 3)"
     ]
    }
   ],
   "source": [
    "a@b"
   ]
  },
  {
   "cell_type": "code",
   "execution_count": 19,
   "id": "9179eb10",
   "metadata": {},
   "outputs": [],
   "source": [
    "arr3d=np.arange(64).reshape(4,4,4)"
   ]
  },
  {
   "cell_type": "raw",
   "id": "7c18a9f0",
   "metadata": {},
   "source": []
  },
  {
   "cell_type": "code",
   "execution_count": 20,
   "id": "15c7b3a5",
   "metadata": {},
   "outputs": [
    {
     "data": {
      "text/plain": [
       "array([[[ 0,  1,  2,  3],\n",
       "        [ 4,  5,  6,  7],\n",
       "        [ 8,  9, 10, 11],\n",
       "        [12, 13, 14, 15]],\n",
       "\n",
       "       [[16, 17, 18, 19],\n",
       "        [20, 21, 22, 23],\n",
       "        [24, 25, 26, 27],\n",
       "        [28, 29, 30, 31]],\n",
       "\n",
       "       [[32, 33, 34, 35],\n",
       "        [36, 37, 38, 39],\n",
       "        [40, 41, 42, 43],\n",
       "        [44, 45, 46, 47]],\n",
       "\n",
       "       [[48, 49, 50, 51],\n",
       "        [52, 53, 54, 55],\n",
       "        [56, 57, 58, 59],\n",
       "        [60, 61, 62, 63]]])"
      ]
     },
     "execution_count": 20,
     "metadata": {},
     "output_type": "execute_result"
    }
   ],
   "source": [
    "arr3d"
   ]
  },
  {
   "cell_type": "code",
   "execution_count": 21,
   "id": "f6d26411",
   "metadata": {},
   "outputs": [
    {
     "data": {
      "text/plain": [
       "array([[ 9, 10],\n",
       "       [25, 26],\n",
       "       [41, 42],\n",
       "       [57, 58]])"
      ]
     },
     "execution_count": 21,
     "metadata": {},
     "output_type": "execute_result"
    }
   ],
   "source": [
    "arr3d[:,2,1:3] \n",
    "# 2d"
   ]
  },
  {
   "cell_type": "code",
   "execution_count": 22,
   "id": "ecb0050f",
   "metadata": {},
   "outputs": [
    {
     "data": {
      "text/plain": [
       "array([[[ 9, 10],\n",
       "        [13, 14]],\n",
       "\n",
       "       [[25, 26],\n",
       "        [29, 30]],\n",
       "\n",
       "       [[41, 42],\n",
       "        [45, 46]],\n",
       "\n",
       "       [[57, 58],\n",
       "        [61, 62]]])"
      ]
     },
     "execution_count": 22,
     "metadata": {},
     "output_type": "execute_result"
    }
   ],
   "source": [
    "arr3d[:,2:,1:3]\n",
    "# 3d"
   ]
  },
  {
   "cell_type": "code",
   "execution_count": 23,
   "id": "f5d7b607",
   "metadata": {},
   "outputs": [
    {
     "data": {
      "text/plain": [
       "array([12., 12., 12., 12., 12., 12., 12., 12., 12., 12.])"
      ]
     },
     "execution_count": 23,
     "metadata": {},
     "output_type": "execute_result"
    }
   ],
   "source": [
    "np.ones(10)*12"
   ]
  },
  {
   "cell_type": "code",
   "execution_count": 24,
   "id": "334f32b2",
   "metadata": {},
   "outputs": [
    {
     "data": {
      "text/plain": [
       "array([[1., 0., 0., 0., 0.],\n",
       "       [0., 1., 0., 0., 0.],\n",
       "       [0., 0., 1., 0., 0.],\n",
       "       [0., 0., 0., 1., 0.],\n",
       "       [0., 0., 0., 0., 1.]])"
      ]
     },
     "execution_count": 24,
     "metadata": {},
     "output_type": "execute_result"
    }
   ],
   "source": [
    "np.eye(5)"
   ]
  },
  {
   "cell_type": "code",
   "execution_count": null,
   "id": "3f568fba",
   "metadata": {},
   "outputs": [],
   "source": []
  },
  {
   "cell_type": "code",
   "execution_count": 25,
   "id": "5a1e8b9a",
   "metadata": {},
   "outputs": [
    {
     "ename": "IndexError",
     "evalue": "too many indices for array: array is 3-dimensional, but 4 were indexed",
     "output_type": "error",
     "traceback": [
      "\u001b[1;31m---------------------------------------------------------------------------\u001b[0m",
      "\u001b[1;31mIndexError\u001b[0m                                Traceback (most recent call last)",
      "Cell \u001b[1;32mIn[25], line 1\u001b[0m\n\u001b[1;32m----> 1\u001b[0m arr3d[:,:,:,\u001b[38;5;241m2\u001b[39m]\n",
      "\u001b[1;31mIndexError\u001b[0m: too many indices for array: array is 3-dimensional, but 4 were indexed"
     ]
    }
   ],
   "source": [
    "arr3d[:,:,:,2]"
   ]
  },
  {
   "cell_type": "code",
   "execution_count": 26,
   "id": "cf457aa6",
   "metadata": {},
   "outputs": [
    {
     "data": {
      "text/plain": [
       "array([ 6, 22, 38, 54])"
      ]
     },
     "execution_count": 26,
     "metadata": {},
     "output_type": "execute_result"
    }
   ],
   "source": [
    "arr3d[:,1,2]"
   ]
  },
  {
   "cell_type": "code",
   "execution_count": 27,
   "id": "acfc06ff",
   "metadata": {},
   "outputs": [
    {
     "data": {
      "text/plain": [
       "array([[ 6,  7,  8],\n",
       "       [15, 16, 17],\n",
       "       [24, 25, 26],\n",
       "       [33, 34, 35]])"
      ]
     },
     "execution_count": 27,
     "metadata": {},
     "output_type": "execute_result"
    }
   ],
   "source": [
    "arr[0:4,6:9]"
   ]
  },
  {
   "cell_type": "code",
   "execution_count": 28,
   "id": "86f5dd96",
   "metadata": {},
   "outputs": [
    {
     "data": {
      "text/plain": [
       "2"
      ]
     },
     "execution_count": 28,
     "metadata": {},
     "output_type": "execute_result"
    }
   ],
   "source": [
    "arr.ndim\n"
   ]
  },
  {
   "cell_type": "code",
   "execution_count": 29,
   "id": "44884920",
   "metadata": {},
   "outputs": [
    {
     "data": {
      "text/plain": [
       "(4, 9)"
      ]
     },
     "execution_count": 29,
     "metadata": {},
     "output_type": "execute_result"
    }
   ],
   "source": [
    "arr.shape"
   ]
  },
  {
   "cell_type": "code",
   "execution_count": 30,
   "id": "86cafa2b",
   "metadata": {},
   "outputs": [
    {
     "data": {
      "text/plain": [
       "2"
      ]
     },
     "execution_count": 30,
     "metadata": {},
     "output_type": "execute_result"
    }
   ],
   "source": [
    "arr.ndim"
   ]
  },
  {
   "cell_type": "code",
   "execution_count": 65,
   "id": "304b1b81",
   "metadata": {},
   "outputs": [],
   "source": [
    "ar=np.arange(25).reshape(5,5)"
   ]
  },
  {
   "cell_type": "raw",
   "id": "758a6a7e",
   "metadata": {},
   "source": [
    "ar"
   ]
  },
  {
   "cell_type": "raw",
   "id": "f8fb5d43",
   "metadata": {},
   "source": []
  },
  {
   "cell_type": "code",
   "execution_count": 66,
   "id": "44912a16",
   "metadata": {},
   "outputs": [
    {
     "data": {
      "text/plain": [
       "array([[ 0,  1,  2,  3,  4],\n",
       "       [ 5,  6,  7,  8,  9],\n",
       "       [10, 11, 12, 13, 14],\n",
       "       [15, 16, 17, 18, 19],\n",
       "       [20, 21, 22, 23, 24]])"
      ]
     },
     "execution_count": 66,
     "metadata": {},
     "output_type": "execute_result"
    }
   ],
   "source": [
    "ar"
   ]
  },
  {
   "cell_type": "code",
   "execution_count": 33,
   "id": "36ce8499",
   "metadata": {},
   "outputs": [
    {
     "data": {
      "text/plain": [
       "array([[0, 0, 0, 0, 0],\n",
       "       [0, 0, 0, 0, 0],\n",
       "       [0, 0, 0, 0, 0],\n",
       "       [0, 0, 0, 0, 0],\n",
       "       [0, 0, 0, 0, 0]])"
      ]
     },
     "execution_count": 33,
     "metadata": {},
     "output_type": "execute_result"
    }
   ],
   "source": [
    "np.zeros_like(ar)"
   ]
  },
  {
   "cell_type": "code",
   "execution_count": 34,
   "id": "901661de",
   "metadata": {},
   "outputs": [
    {
     "name": "stdout",
     "output_type": "stream",
     "text": [
      "[[ 0  1  2  3  4  5  6  7  8]\n",
      " [ 9 10 11 12 13 14 15 16 17]\n",
      " [18 19 20 21 22 23 24 25 26]\n",
      " [27 28 29 30 31 32 33 34 35]]\n"
     ]
    }
   ],
   "source": [
    "print(arr[0:5])"
   ]
  },
  {
   "cell_type": "code",
   "execution_count": 35,
   "id": "21e68709",
   "metadata": {},
   "outputs": [],
   "source": [
    "arr2=np.arange(19)"
   ]
  },
  {
   "cell_type": "code",
   "execution_count": 36,
   "id": "4bf28c0e",
   "metadata": {},
   "outputs": [
    {
     "name": "stdout",
     "output_type": "stream",
     "text": [
      "[ 0  1  2  3  4  5  6  7  8  9 10 11 12 13 14 15 16 17 18]\n"
     ]
    }
   ],
   "source": [
    "print(arr2)"
   ]
  },
  {
   "cell_type": "code",
   "execution_count": 38,
   "id": "5f30469b",
   "metadata": {},
   "outputs": [
    {
     "data": {
      "text/plain": [
       "array([ 0,  1,  2,  3,  4,  5,  6,  7,  8,  9, 10, 11, 12, 13, 14, 15, 16,\n",
       "       17, 18])"
      ]
     },
     "execution_count": 38,
     "metadata": {},
     "output_type": "execute_result"
    }
   ],
   "source": [
    "arr2"
   ]
  },
  {
   "cell_type": "code",
   "execution_count": 42,
   "id": "b1fa9fc4",
   "metadata": {},
   "outputs": [
    {
     "data": {
      "text/plain": [
       "15"
      ]
     },
     "execution_count": 42,
     "metadata": {},
     "output_type": "execute_result"
    }
   ],
   "source": [
    "(arr2>3).sum()"
   ]
  },
  {
   "cell_type": "code",
   "execution_count": 44,
   "id": "0bbaa660",
   "metadata": {},
   "outputs": [
    {
     "data": {
      "text/plain": [
       "array([False, False, False, False,  True,  True,  True,  True,  True,\n",
       "        True,  True,  True,  True,  True,  True,  True,  True,  True,\n",
       "        True])"
      ]
     },
     "execution_count": 44,
     "metadata": {},
     "output_type": "execute_result"
    }
   ],
   "source": [
    "(arr2>3)"
   ]
  },
  {
   "cell_type": "code",
   "execution_count": null,
   "id": "8b45ebb1",
   "metadata": {},
   "outputs": [],
   "source": [
    "arr2d=np.array(lst2d)"
   ]
  },
  {
   "cell_type": "code",
   "execution_count": 49,
   "id": "58a2fe25",
   "metadata": {},
   "outputs": [
    {
     "data": {
      "text/plain": [
       "array([ 4,  5,  6,  7,  8,  9, 10, 11, 12, 13, 14, 15, 16, 17, 18])"
      ]
     },
     "execution_count": 49,
     "metadata": {},
     "output_type": "execute_result"
    }
   ],
   "source": [
    "arr2[arr2>3]"
   ]
  },
  {
   "cell_type": "code",
   "execution_count": 50,
   "id": "9bc77c0e",
   "metadata": {},
   "outputs": [
    {
     "data": {
      "text/plain": [
       "array([5])"
      ]
     },
     "execution_count": 50,
     "metadata": {},
     "output_type": "execute_result"
    }
   ],
   "source": [
    "arr2[arr2==5]"
   ]
  },
  {
   "cell_type": "code",
   "execution_count": 51,
   "id": "22371bab",
   "metadata": {},
   "outputs": [
    {
     "data": {
      "text/plain": [
       "array([ 1,  3,  5,  7,  9, 11, 13, 15, 17])"
      ]
     },
     "execution_count": 51,
     "metadata": {},
     "output_type": "execute_result"
    }
   ],
   "source": [
    "arr2[arr2%2!=0]"
   ]
  },
  {
   "cell_type": "code",
   "execution_count": 141,
   "id": "f24bbbb8",
   "metadata": {},
   "outputs": [
    {
     "data": {
      "text/plain": [
       "array([ 0,  2,  4,  6,  8, 10, 12, 14, 16, 18])"
      ]
     },
     "execution_count": 141,
     "metadata": {},
     "output_type": "execute_result"
    }
   ],
   "source": [
    "arr2[arr2%2==0]"
   ]
  },
  {
   "cell_type": "code",
   "execution_count": 142,
   "id": "a4583480",
   "metadata": {},
   "outputs": [],
   "source": [
    "lst=[[0,1,2,3,4,5,6,7,8],\n",
    "     [9,10,11,12,13,14,15,16,17],\n",
    "    [18,19,20,21,22,23,24,25,26],\n",
    "    [27,28,29,30,31,32,33,34,35]]"
   ]
  },
  {
   "cell_type": "code",
   "execution_count": 143,
   "id": "b2f8397c",
   "metadata": {},
   "outputs": [],
   "source": [
    "arr2d=np.array(lst)"
   ]
  },
  {
   "cell_type": "code",
   "execution_count": 144,
   "id": "146b6589",
   "metadata": {},
   "outputs": [
    {
     "data": {
      "text/plain": [
       "array([[ 0,  1,  2,  3,  4,  5,  6,  7,  8],\n",
       "       [ 9, 10, 11, 12, 13, 14, 15, 16, 17],\n",
       "       [18, 19, 20, 21, 22, 23, 24, 25, 26],\n",
       "       [27, 28, 29, 30, 31, 32, 33, 34, 35]])"
      ]
     },
     "execution_count": 144,
     "metadata": {},
     "output_type": "execute_result"
    }
   ],
   "source": [
    "arr2d"
   ]
  },
  {
   "cell_type": "code",
   "execution_count": 145,
   "id": "e142a872",
   "metadata": {},
   "outputs": [
    {
     "data": {
      "text/plain": [
       "[array([[ 0,  1,  2],\n",
       "        [ 9, 10, 11],\n",
       "        [18, 19, 20],\n",
       "        [27, 28, 29]]),\n",
       " array([[ 3,  4,  5],\n",
       "        [12, 13, 14],\n",
       "        [21, 22, 23],\n",
       "        [30, 31, 32]]),\n",
       " array([[ 6,  7,  8],\n",
       "        [15, 16, 17],\n",
       "        [24, 25, 26],\n",
       "        [33, 34, 35]])]"
      ]
     },
     "execution_count": 145,
     "metadata": {},
     "output_type": "execute_result"
    }
   ],
   "source": [
    "np.split(arr2d,3,axis=1)"
   ]
  },
  {
   "cell_type": "code",
   "execution_count": 147,
   "id": "1d50d4fc",
   "metadata": {},
   "outputs": [
    {
     "data": {
      "text/plain": [
       "[array([[ 0,  1,  2,  3,  4,  5,  6,  7,  8],\n",
       "        [ 9, 10, 11, 12, 13, 14, 15, 16, 17]]),\n",
       " array([[18, 19, 20, 21, 22, 23, 24, 25, 26],\n",
       "        [27, 28, 29, 30, 31, 32, 33, 34, 35]])]"
      ]
     },
     "execution_count": 147,
     "metadata": {},
     "output_type": "execute_result"
    }
   ],
   "source": [
    "np.split(arr2d,2,axis=0)"
   ]
  },
  {
   "cell_type": "code",
   "execution_count": 161,
   "id": "165c9d88",
   "metadata": {},
   "outputs": [],
   "source": [
    "a=np.arange(12).reshape(4,3)"
   ]
  },
  {
   "cell_type": "code",
   "execution_count": 162,
   "id": "33dfb50b",
   "metadata": {},
   "outputs": [
    {
     "data": {
      "text/plain": [
       "array([[ 0,  1,  2],\n",
       "       [ 3,  4,  5],\n",
       "       [ 6,  7,  8],\n",
       "       [ 9, 10, 11]])"
      ]
     },
     "execution_count": 162,
     "metadata": {},
     "output_type": "execute_result"
    }
   ],
   "source": [
    "a"
   ]
  },
  {
   "cell_type": "code",
   "execution_count": 163,
   "id": "dd7e1bd1",
   "metadata": {},
   "outputs": [],
   "source": [
    "b=np.arange(0,3).reshape(1,3)\n"
   ]
  },
  {
   "cell_type": "code",
   "execution_count": 164,
   "id": "0650b6be",
   "metadata": {},
   "outputs": [
    {
     "data": {
      "text/plain": [
       "array([[0, 1, 2]])"
      ]
     },
     "execution_count": 164,
     "metadata": {},
     "output_type": "execute_result"
    }
   ],
   "source": [
    "b"
   ]
  },
  {
   "cell_type": "code",
   "execution_count": 165,
   "id": "d8ef8b86",
   "metadata": {},
   "outputs": [
    {
     "data": {
      "text/plain": [
       "array([[ 0,  2,  4],\n",
       "       [ 3,  5,  7],\n",
       "       [ 6,  8, 10],\n",
       "       [ 9, 11, 13]])"
      ]
     },
     "execution_count": 165,
     "metadata": {},
     "output_type": "execute_result"
    }
   ],
   "source": [
    "a+b"
   ]
  },
  {
   "cell_type": "code",
   "execution_count": 174,
   "id": "5e255910",
   "metadata": {},
   "outputs": [],
   "source": [
    "x=np.array([[1],[2],[3]])\n",
    "y=np.array([1,2,3])\n",
    "z=np.broadcast(x,y)"
   ]
  },
  {
   "cell_type": "code",
   "execution_count": 175,
   "id": "a5f1cdd6",
   "metadata": {},
   "outputs": [
    {
     "data": {
      "text/plain": [
       "<numpy.broadcast at 0x1d4d6123bc0>"
      ]
     },
     "execution_count": 175,
     "metadata": {},
     "output_type": "execute_result"
    }
   ],
   "source": [
    "z"
   ]
  },
  {
   "cell_type": "code",
   "execution_count": 167,
   "id": "495cd746",
   "metadata": {},
   "outputs": [],
   "source": [
    "arr2d[0,0]=0"
   ]
  },
  {
   "cell_type": "code",
   "execution_count": 111,
   "id": "d749cf03",
   "metadata": {},
   "outputs": [],
   "source": [
    "arr3=arr2d*2"
   ]
  },
  {
   "cell_type": "code",
   "execution_count": 112,
   "id": "4cdc42cb",
   "metadata": {},
   "outputs": [
    {
     "data": {
      "text/plain": [
       "array([[ 0,  0,  0,  0,  0,  0,  0,  0,  0],\n",
       "       [18, 20, 22, 24, 26, 28, 30, 32, 34],\n",
       "       [36, 38, 40, 42, 44, 46, 48, 50, 52],\n",
       "       [54, 56, 58, 60, 62, 64, 66, 68, 70]])"
      ]
     },
     "execution_count": 112,
     "metadata": {},
     "output_type": "execute_result"
    }
   ],
   "source": [
    "arr3"
   ]
  },
  {
   "cell_type": "code",
   "execution_count": 62,
   "id": "b9ee2f20",
   "metadata": {},
   "outputs": [
    {
     "data": {
      "text/plain": [
       "array([11, 12, 13, 14, 15, 16, 17, 18, 19, 20, 21, 22, 23, 24, 25, 26, 27,\n",
       "       28, 29, 30, 31, 32, 33, 34, 35])"
      ]
     },
     "execution_count": 62,
     "metadata": {},
     "output_type": "execute_result"
    }
   ],
   "source": [
    "arr2d[(arr2d>10)]"
   ]
  },
  {
   "cell_type": "code",
   "execution_count": 67,
   "id": "58dfc66c",
   "metadata": {},
   "outputs": [
    {
     "data": {
      "text/plain": [
       "array([11, 12, 13, 14, 15, 16, 17, 18, 19, 20, 21, 22, 23, 24, 25, 26])"
      ]
     },
     "execution_count": 67,
     "metadata": {},
     "output_type": "execute_result"
    }
   ],
   "source": [
    "arr2d[(arr2d>10) & (arr2d<27)]"
   ]
  },
  {
   "cell_type": "code",
   "execution_count": 73,
   "id": "4e41a298",
   "metadata": {},
   "outputs": [],
   "source": [
    "r=arr2d.ravel()"
   ]
  },
  {
   "cell_type": "code",
   "execution_count": 74,
   "id": "22c8bab8",
   "metadata": {},
   "outputs": [],
   "source": [
    "f=arr2d.flatten()"
   ]
  },
  {
   "cell_type": "code",
   "execution_count": 75,
   "id": "31d0cad1",
   "metadata": {},
   "outputs": [],
   "source": [
    "rs=arr2d.reshape(36)"
   ]
  },
  {
   "cell_type": "code",
   "execution_count": 78,
   "id": "7d9a256d",
   "metadata": {},
   "outputs": [
    {
     "name": "stdout",
     "output_type": "stream",
     "text": [
      "[ 0  1  2  3  4  5  6  7  8  9 10 11 12 13 14 15 16 17 18 19 20 21 22 23\n",
      " 24 25 26 27 28 29 30 31 32 33 34 35] [ 0  1  2  3  4  5  6  7  8  9 10 11 12 13 14 15 16 17 18 19 20 21 22 23\n",
      " 24 25 26 27 28 29 30 31 32 33 34 35] [ 0  1  2  3  4  5  6  7  8  9 10 11 12 13 14 15 16 17 18 19 20 21 22 23\n",
      " 24 25 26 27 28 29 30 31 32 33 34 35]\n"
     ]
    }
   ],
   "source": [
    "print(r,f,rs)"
   ]
  },
  {
   "cell_type": "code",
   "execution_count": 84,
   "id": "2640d02c",
   "metadata": {},
   "outputs": [],
   "source": [
    "r[0]=1000"
   ]
  },
  {
   "cell_type": "code",
   "execution_count": 85,
   "id": "b258cdab",
   "metadata": {},
   "outputs": [
    {
     "data": {
      "text/plain": [
       "array([1000,    1,    2,    3,    4,    5,    6,    7,    8,    9,   10,\n",
       "         11,   12,   13,   14,   15,   16,   17,   18,   19,   20,   21,\n",
       "         22,   23,   24,   25,   26,   27,   28,   29,   30,   31,   32,\n",
       "         33,   34,   35])"
      ]
     },
     "execution_count": 85,
     "metadata": {},
     "output_type": "execute_result"
    }
   ],
   "source": [
    "r"
   ]
  },
  {
   "cell_type": "code",
   "execution_count": 86,
   "id": "70726ef5",
   "metadata": {},
   "outputs": [
    {
     "data": {
      "text/plain": [
       "array([[1000,    1,    2,    3,    4,    5,    6,    7,    8],\n",
       "       [   9,   10,   11,   12,   13,   14,   15,   16,   17],\n",
       "       [  18,   19,   20,   21,   22,   23,   24,   25,   26],\n",
       "       [  27,   28,   29,   30,   31,   32,   33,   34,   35]])"
      ]
     },
     "execution_count": 86,
     "metadata": {},
     "output_type": "execute_result"
    }
   ],
   "source": [
    "arr2d"
   ]
  },
  {
   "cell_type": "code",
   "execution_count": 88,
   "id": "6ca84c9a",
   "metadata": {},
   "outputs": [],
   "source": [
    "f[0]=999"
   ]
  },
  {
   "cell_type": "code",
   "execution_count": 89,
   "id": "b012c3ae",
   "metadata": {},
   "outputs": [
    {
     "data": {
      "text/plain": [
       "array([999,   1,   2,   3,   4,   5,   6,   7,   8,   9,  10,  11,  12,\n",
       "        13,  14,  15,  16,  17,  18,  19,  20,  21,  22,  23,  24,  25,\n",
       "        26,  27,  28,  29,  30,  31,  32,  33,  34,  35])"
      ]
     },
     "execution_count": 89,
     "metadata": {},
     "output_type": "execute_result"
    }
   ],
   "source": [
    "f"
   ]
  },
  {
   "cell_type": "code",
   "execution_count": 90,
   "id": "b9267cbf",
   "metadata": {},
   "outputs": [
    {
     "data": {
      "text/plain": [
       "array([[1000,    1,    2,    3,    4,    5,    6,    7,    8],\n",
       "       [   9,   10,   11,   12,   13,   14,   15,   16,   17],\n",
       "       [  18,   19,   20,   21,   22,   23,   24,   25,   26],\n",
       "       [  27,   28,   29,   30,   31,   32,   33,   34,   35]])"
      ]
     },
     "execution_count": 90,
     "metadata": {},
     "output_type": "execute_result"
    }
   ],
   "source": [
    "arr2d"
   ]
  },
  {
   "cell_type": "code",
   "execution_count": 91,
   "id": "9a1376bc",
   "metadata": {},
   "outputs": [],
   "source": [
    "rs[0]=888"
   ]
  },
  {
   "cell_type": "code",
   "execution_count": 92,
   "id": "699f1bf0",
   "metadata": {},
   "outputs": [
    {
     "data": {
      "text/plain": [
       "array([888,   1,   2,   3,   4,   5,   6,   7,   8,   9,  10,  11,  12,\n",
       "        13,  14,  15,  16,  17,  18,  19,  20,  21,  22,  23,  24,  25,\n",
       "        26,  27,  28,  29,  30,  31,  32,  33,  34,  35])"
      ]
     },
     "execution_count": 92,
     "metadata": {},
     "output_type": "execute_result"
    }
   ],
   "source": [
    "rs"
   ]
  },
  {
   "cell_type": "code",
   "execution_count": 93,
   "id": "73058c79",
   "metadata": {},
   "outputs": [
    {
     "data": {
      "text/plain": [
       "array([[888,   1,   2,   3,   4,   5,   6,   7,   8],\n",
       "       [  9,  10,  11,  12,  13,  14,  15,  16,  17],\n",
       "       [ 18,  19,  20,  21,  22,  23,  24,  25,  26],\n",
       "       [ 27,  28,  29,  30,  31,  32,  33,  34,  35]])"
      ]
     },
     "execution_count": 93,
     "metadata": {},
     "output_type": "execute_result"
    }
   ],
   "source": [
    "arr2d"
   ]
  },
  {
   "cell_type": "code",
   "execution_count": 122,
   "id": "70dcfe66",
   "metadata": {},
   "outputs": [],
   "source": [
    "ar1=np.arange(9).reshape(3,3)"
   ]
  },
  {
   "cell_type": "code",
   "execution_count": 123,
   "id": "7b690052",
   "metadata": {},
   "outputs": [
    {
     "data": {
      "text/plain": [
       "array([[0, 1, 2],\n",
       "       [3, 4, 5],\n",
       "       [6, 7, 8]])"
      ]
     },
     "execution_count": 123,
     "metadata": {},
     "output_type": "execute_result"
    }
   ],
   "source": [
    "ar1"
   ]
  },
  {
   "cell_type": "code",
   "execution_count": 124,
   "id": "d0497421",
   "metadata": {},
   "outputs": [],
   "source": [
    "ar2=np.arange(10,19).reshape(3,3)"
   ]
  },
  {
   "cell_type": "code",
   "execution_count": 1,
   "id": "021adc4e",
   "metadata": {},
   "outputs": [
    {
     "ename": "NameError",
     "evalue": "name 'ar2' is not defined",
     "output_type": "error",
     "traceback": [
      "\u001b[1;31m---------------------------------------------------------------------------\u001b[0m",
      "\u001b[1;31mNameError\u001b[0m                                 Traceback (most recent call last)",
      "Cell \u001b[1;32mIn[1], line 1\u001b[0m\n\u001b[1;32m----> 1\u001b[0m ar2\n",
      "\u001b[1;31mNameError\u001b[0m: name 'ar2' is not defined"
     ]
    }
   ],
   "source": [
    "ar2"
   ]
  },
  {
   "cell_type": "code",
   "execution_count": null,
   "id": "71332031",
   "metadata": {},
   "outputs": [],
   "source": []
  },
  {
   "cell_type": "code",
   "execution_count": 131,
   "id": "537a33a7",
   "metadata": {},
   "outputs": [],
   "source": [
    "dstack=np.dstack((ar1,ar2))"
   ]
  },
  {
   "cell_type": "code",
   "execution_count": 132,
   "id": "d45198c5",
   "metadata": {},
   "outputs": [
    {
     "data": {
      "text/plain": [
       "array([[[ 0, 10],\n",
       "        [ 1, 11],\n",
       "        [ 2, 12]],\n",
       "\n",
       "       [[ 3, 13],\n",
       "        [ 4, 14],\n",
       "        [ 5, 15]],\n",
       "\n",
       "       [[ 6, 16],\n",
       "        [ 7, 17],\n",
       "        [ 8, 18]]])"
      ]
     },
     "execution_count": 132,
     "metadata": {},
     "output_type": "execute_result"
    }
   ],
   "source": [
    "dstack"
   ]
  },
  {
   "cell_type": "code",
   "execution_count": null,
   "id": "470608a8",
   "metadata": {},
   "outputs": [],
   "source": []
  },
  {
   "cell_type": "code",
   "execution_count": null,
   "id": "d9e83977",
   "metadata": {},
   "outputs": [],
   "source": []
  },
  {
   "cell_type": "code",
   "execution_count": null,
   "id": "02065792",
   "metadata": {},
   "outputs": [],
   "source": []
  },
  {
   "cell_type": "raw",
   "id": "bf0eb01b",
   "metadata": {},
   "source": [
    "ar1"
   ]
  },
  {
   "cell_type": "raw",
   "id": "d367757c",
   "metadata": {},
   "source": [
    "arr2d"
   ]
  },
  {
   "cell_type": "code",
   "execution_count": null,
   "id": "2a97941d",
   "metadata": {},
   "outputs": [],
   "source": [
    "lst2d=[[1,2,3],[4,5,6]]"
   ]
  },
  {
   "cell_type": "code",
   "execution_count": null,
   "id": "a081997d",
   "metadata": {},
   "outputs": [],
   "source": [
    "arr2d=np.array(lst2d)"
   ]
  },
  {
   "cell_type": "markdown",
   "id": "8f24fd02",
   "metadata": {},
   "source": [
    "## "
   ]
  },
  {
   "cell_type": "code",
   "execution_count": null,
   "id": "2a518768",
   "metadata": {},
   "outputs": [],
   "source": [
    "arr2d(2,5)"
   ]
  },
  {
   "cell_type": "code",
   "execution_count": null,
   "id": "5b506794",
   "metadata": {},
   "outputs": [],
   "source": [
    "arr2d"
   ]
  },
  {
   "cell_type": "code",
   "execution_count": null,
   "id": "bebe1bd7",
   "metadata": {},
   "outputs": [],
   "source": []
  }
 ],
 "metadata": {
  "kernelspec": {
   "display_name": "Python 3 (ipykernel)",
   "language": "python",
   "name": "python3"
  },
  "language_info": {
   "codemirror_mode": {
    "name": "ipython",
    "version": 3
   },
   "file_extension": ".py",
   "mimetype": "text/x-python",
   "name": "python",
   "nbconvert_exporter": "python",
   "pygments_lexer": "ipython3",
   "version": "3.11.3"
  }
 },
 "nbformat": 4,
 "nbformat_minor": 5
}
